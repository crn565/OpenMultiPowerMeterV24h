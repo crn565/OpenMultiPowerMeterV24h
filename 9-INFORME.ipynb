{
 "cells": [
  {
   "cell_type": "markdown",
   "id": "96d7aba3",
   "metadata": {},
   "source": [
    "#  Informe de consumo "
   ]
  },
  {
   "cell_type": "markdown",
   "id": "73b6431b",
   "metadata": {},
   "source": [
    "Tras obtener todas las metricas  del mejor modelo es hora de presentar un resumen del los resultados obtenidos\n",
    "con el mejor algoritmo entrenado con un tiempo determinado y con un diferente metodo de interpolacion.\n",
    "\n",
    "Destacar que todos los resultados de las prediciones los salvamos en la ruta : C:/Users/USUARIO/jupyter_notebooks/segundo_experimento_datos_acoplados_temporalmente-main/data/NILM/Results\n",
    "\n",
    "Asimismo los resultados ademas de presentarlos en este cuaderno lo salvamos en:\n",
    "c:/Users/USUAIO/jupyter_notebooks/segundo_experimento_datos_acoplados_temporalmente-main/data/results.htm\n"
   ]
  },
  {
   "cell_type": "markdown",
   "id": "fd04d4cf",
   "metadata": {},
   "source": [
    "En primer lugar, debemos cargar las librerías como plotly, nilmtk,pandas, datetime y codecs."
   ]
  },
  {
   "cell_type": "code",
   "execution_count": 1,
   "id": "f38be635",
   "metadata": {},
   "outputs": [],
   "source": [
    "import pandas as pd\n",
    "import datetime\n",
    "import codecs\n",
    "from plotly.io import to_html\n",
    "import matplotlib.pyplot as plt\n",
    "import plotly.graph_objects as go\n",
    "import plotly.express as px \n",
    "from plotly.subplots import make_subplots\n",
    "from nilmtk import DataSet\n",
    "import warnings\n",
    "from IPython.display import SVG\n",
    "\n",
    "warnings. filterwarnings(\"ignore\")\n",
    "plt.style.use('bmh')\n"
   ]
  },
  {
   "cell_type": "markdown",
   "id": "ef0c4418",
   "metadata": {},
   "source": [
    "## Breve explicacion de la funcón de informe\n",
    "Creamos una función que recupera las prediciones del mejor modelo y sobre esta calcula el total de energia  y potencia consumida. \n",
    "\n",
    "Ademas ofrece otros datos interesantes como son el periodo de inicio y fin ,la tasa de muestreo , etc.\n",
    "\n",
    "Asimismo tambien sacamos la grafica del consumo desagregado de los difrenetes aplicativos frente a a la lectura del contador principal.\n",
    "\n",
    "Como relevante, sacamos toda la información interesante,tambien en un fichero en formato  html, que se ira sobreescribiendo a medida que ejecutemos este cuaderno. "
   ]
  },
  {
   "cell_type": "code",
   "execution_count": 4,
   "id": "c18631d8",
   "metadata": {},
   "outputs": [],
   "source": [
    "def report():\n",
    "        \n",
    "    #Tomamos la mejor prediccion, que para este segundo experimento de datos sincronizados temporalmente sin tomar los \n",
    "    #transitorios es la siguinte combinación:\n",
    "    # -algoritmo CO(Optimizacion combinatorio)  \n",
    "    # -el mejor tiempo de muestreo(10seg) \n",
    "    # -el mejor metodo de interpolacion (metodo mean)\n",
    "    \n",
    "    results = DataSet('C:/Users/carlo/jupyter_notebooks/open_multi_power_meter_24/data/NILM/Results/CO_60s_median_pred.h5')   \n",
    "      \n",
    "    #ruta del fichero de salida \n",
    "    html_dir =('C:/Users/carlo/jupyter_notebooks/open_multi_power_meter_24/data/results.htm')   \n",
    "\n",
    "    \n",
    "    labels = ['Main', 'Fryer', 'LED Lamp',  'Incandescent lamp','Laptop Computer', 'Fan'] #etiquetas\n",
    "    \n",
    "    results_elec = results.buildings[1].elec\n",
    "    \n",
    "    print (results_elec) #pintamos los diferentes aplicativos con sus asociaciones\n",
    "   \n",
    "   \n",
    "    #pie\n",
    "    df1=pd.DataFrame(results_elec.submeters().fraction_per_meter(), columns=['Fracción'])\n",
    "    df1['Energía']=round(df1['Fracción']*results_elec.total_energy()[0],1)\n",
    "    #df1['Dispositivo']=labels \n",
    "    \n",
    "    fig1 = make_subplots(rows=1, cols=2, specs=[[{'type':'domain'}, {'type':'domain'}]])\n",
    "    fig1.add_trace(go.Pie(values=df1['Fracción'], name='Porcentaje', hoverinfo=\"label+percent+name\",\n",
    "                          textinfo='label+percent', labels=labels, sort=False), 1, 1)\n",
    "    fig1.add_trace(go.Pie(values=df1['Energía'], name='Energía', hoverinfo=\"label+value+name\", textinfo='label+value',\n",
    "                          labels=labels, sort=False, texttemplate=\"%{value:.1f} kWh\"), 1, 2)\n",
    "    fig1.update_traces(hole=.3)\n",
    "    fig1.update_layout(width=900, height=450,\n",
    "         annotations=[dict(text='%', x=0.21, y=0.5, font_size=22, showarrow=False),\n",
    "                      dict(text='kWh', x=0.81, y=0.5, font_size=22, showarrow=False)])\n",
    "    \n",
    "    fig1.show() #pintamos el resultado por pantalla\n",
    "    pie=fig1.to_html()# convertimos el grafico en un objeto para poderlo copiar en un fichero html\n",
    "   \n",
    "    \n",
    "    #lines\n",
    "    df2=results_elec.select(instance=[2,3,4,5,6]).dataframe_of_meters(ac_type='active')\n",
    "    df2.columns=labels[:5]\n",
    "    fig2=px.line(df2, width=900, height=500,labels={'variable':'Dispositivos', 'index':'Fecha', 'value':'Potencia (W)'})\n",
    "  \n",
    "    fig2.show() #pintamos el resultado por pantalla\n",
    "    lines=fig2.to_html() # convertimos el grafico en un objeto para poderlo copiar en un fichero html\n",
    "   \n",
    "    \n",
    "    #metadata\n",
    "    date=results.metadata['date'] #recuperamos del dataset la fecha\n",
    "    date=datetime.datetime.strptime(date,'%Y-%m-%dT%H:%M:%S').strftime('%d/%m/%Y %H:%M:%S')\n",
    "    \n",
    "    sample_period=results.metadata['meter_devices']['mains']['sample_period'] #recuperamos del dataset el tiempo de muestreo\n",
    "    sample_period =str (sample_period)+ 'segundos'\n",
    "    print ('Sample_period:',sample_period)\n",
    "    \n",
    "    start=results.metadata['timeframe']['start'] #recuperamos del dataset la hora de inicio\n",
    "    start=datetime.datetime.strptime(start,'%Y-%m-%dT%H:%M:%S+01:00').strftime('%d/%m/%Y %H:%M:%S')\n",
    "    print ('Start:',start)\n",
    "    \n",
    "    end=results.metadata['timeframe']['end'] #recuperamos del dataset la hora de finalizacion\n",
    "    end=datetime.datetime.strptime(end,'%Y-%m-%dT%H:%M:%S+01:00').strftime('%d/%m/%Y %H:%M:%S')\n",
    "    print ('End:',end)\n",
    "\n",
    "\n",
    "    \n",
    "    \n",
    "    #a continuacion creamos una cadena en formato HTML estatico que incluye \n",
    "    #los graficos y los datos mas relevantes recuperados del dataset    \n",
    "    \n",
    "    msg =\"\"\"\n",
    "    <html>\n",
    "    <meta name=\"viewport\" content=\"width=device-width, initial-scale=1\">\n",
    "    <link rel=\"stylesheet\" href=\"https://www.w3schools.com/w3css/4/w3.css\">\n",
    "    <head>  <meta http-equiv=\"content-type\" content=\"text/html; charset=UTF-8\"> </head>\n",
    "       <body>\n",
    "        <h1><td><img src=\"logotipo.png\" width=\"160\" ></td><b>&nbsp;&nbsp;&nbsp;&nbsp;&nbsp;&nbsp;&nbsp; Desagregación Consumo energético con OZM y NILMTK</b></h1>\n",
    "          <br>  \n",
    "        <h4><b>&nbsp;&nbsp;&nbsp;&nbsp;&nbsp;&nbsp;&nbsp; Localización y fecha</b></h4>\n",
    "      \n",
    "        <table >\n",
    "          <tbody>\n",
    "            <tr>\n",
    "            <td>&nbsp;&nbsp;&nbsp;&nbsp;&nbsp;&nbsp;&nbsp;</td>\n",
    "             <td>Local:</td> <td>Laboratorio Electrotecnia Escuela Politecnica </td> </tr>\n",
    "             <tr>\n",
    "             <td>&nbsp;&nbsp;&nbsp;&nbsp;&nbsp;&nbsp;&nbsp;</td>\n",
    "                        <td >Fecha:          </td>     <td >\"\"\"+date+\"\"\" </td>\n",
    "            </tr>\n",
    "          </tbody>\n",
    "        </table>\n",
    "        <h4><b>&nbsp;&nbsp;&nbsp;&nbsp;&nbsp;&nbsp;&nbsp; Energía Consumida</b></h4>\n",
    "        <table >\n",
    "          <tbody>\n",
    "            <tr>\n",
    "            <td>&nbsp;&nbsp;&nbsp;&nbsp;&nbsp;&nbsp;&nbsp;</td>\n",
    "              <td >Fecha\n",
    "                Inicio:</td>\n",
    "              <td >\"\"\"+start+\"\"\"<br>\n",
    "                </td>\n",
    "            </tr>\n",
    "            <tr>\n",
    "            <td></td>\n",
    "              <td >Fecha Fin:</td>\n",
    "              <td >\"\"\"+end+\"\"\"<br>\n",
    "                </td>\n",
    "            </tr>\n",
    "            <tr>\n",
    "            <td></td>\n",
    "              <td >Periodo de\n",
    "                muestreo:</td>\n",
    "              <td >\"\"\"+sample_period+\"\"\"<br>\n",
    "              </td>\n",
    "            </tr>\n",
    "          </tbody>\n",
    "        </table>\n",
    "        <p></p>\n",
    "        <h4><b>&nbsp;&nbsp;&nbsp;&nbsp;&nbsp;&nbsp;&nbsp;Gráfico de energía desagregada</b></h4>\n",
    "        \"\"\"+pie+\"\"\"\n",
    "        <h4><b>&nbsp;&nbsp;&nbsp;&nbsp;&nbsp;&nbsp;&nbsp;Gráfico de potencia instantánea desagregada</b> </h4>\n",
    "        \"\"\"+lines+\"\"\"\n",
    "        <p><br>\n",
    "        </p>\n",
    "        <p>&nbsp;&nbsp;&nbsp;&nbsp;&nbsp;&nbsp;&nbsp;Se puede encontrar mas información en  <a href=\"https://github.com/crn565/segundo_experimento_datos_acoplados_temporalmente\">github.com/crn565\n",
    "                  </a></p>\n",
    "       &nbsp;&nbsp;&nbsp;&nbsp;&nbsp;&nbsp;&nbsp; Octubre 2022 by CRN<span><br>\n",
    "        </span><br>\n",
    "        <br>\n",
    "      </body>\n",
    "     </html>\"\"\"\n",
    "\n",
    "    with codecs.open(html_dir, 'w', encoding='utf8') as f:\n",
    "        f.write(msg)     #escribimos la cadena msg en el fichero de salida\n",
    "        f.close()        #cerramos el fichero\n",
    "    return print('!El informe  ya se ha creado!')\n",
    "    \n",
    "    "
   ]
  },
  {
   "cell_type": "code",
   "execution_count": 5,
   "id": "df052457",
   "metadata": {
    "scrolled": true
   },
   "outputs": [
    {
     "name": "stdout",
     "output_type": "stream",
     "text": [
      "MeterGroup(meters=\n",
      "  ElecMeter(instance=1, building=1, dataset='CO', site_meter, appliances=[])\n",
      "  ElecMeter(instance=2, building=1, dataset='CO', appliances=[Appliance(type='fryer', instance=1)])\n",
      "  ElecMeter(instance=3, building=1, dataset='CO', appliances=[Appliance(type='LED lamp', instance=1)])\n",
      "  ElecMeter(instance=4, building=1, dataset='CO', appliances=[Appliance(type='incandescent lamp', instance=1)])\n",
      "  ElecMeter(instance=5, building=1, dataset='CO', appliances=[Appliance(type='laptop computer', instance=1)])\n",
      "  ElecMeter(instance=6, building=1, dataset='CO', appliances=[Appliance(type='fan', instance=1)])\n",
      ")\n",
      "Calculating total_energy for ElecMeterID(instance=6, building=1, dataset='CO') ...    instance=1)])nstance=1)])])"
     ]
    },
    {
     "data": {
      "application/vnd.plotly.v1+json": {
       "config": {
        "plotlyServerURL": "https://plot.ly"
       },
       "data": [
        {
         "domain": {
          "x": [
           0,
           0.45
          ],
          "y": [
           0,
           1
          ]
         },
         "hole": 0.3,
         "hoverinfo": "label+percent+name",
         "labels": [
          "Main",
          "Fryer",
          "LED Lamp",
          "Incandescent lamp",
          "Laptop Computer",
          "Fan"
         ],
         "name": "Porcentaje",
         "sort": false,
         "textinfo": "label+percent",
         "type": "pie",
         "values": [
          0.17000165371258477,
          0.15544898296676038,
          0.3954026790143873,
          0.16371754589052426,
          0.11542913841574337
         ]
        },
        {
         "domain": {
          "x": [
           0.55,
           1
          ],
          "y": [
           0,
           1
          ]
         },
         "hole": 0.3,
         "hoverinfo": "label+value+name",
         "labels": [
          "Main",
          "Fryer",
          "LED Lamp",
          "Incandescent lamp",
          "Laptop Computer",
          "Fan"
         ],
         "name": "Energía",
         "sort": false,
         "textinfo": "label+value",
         "texttemplate": "%{value:.1f} kWh",
         "type": "pie",
         "values": [
          0,
          0,
          0.1,
          0,
          0
         ]
        }
       ],
       "layout": {
        "annotations": [
         {
          "font": {
           "size": 22
          },
          "showarrow": false,
          "text": "%",
          "x": 0.21,
          "y": 0.5
         },
         {
          "font": {
           "size": 22
          },
          "showarrow": false,
          "text": "kWh",
          "x": 0.81,
          "y": 0.5
         }
        ],
        "height": 450,
        "template": {
         "data": {
          "bar": [
           {
            "error_x": {
             "color": "#2a3f5f"
            },
            "error_y": {
             "color": "#2a3f5f"
            },
            "marker": {
             "line": {
              "color": "#E5ECF6",
              "width": 0.5
             },
             "pattern": {
              "fillmode": "overlay",
              "size": 10,
              "solidity": 0.2
             }
            },
            "type": "bar"
           }
          ],
          "barpolar": [
           {
            "marker": {
             "line": {
              "color": "#E5ECF6",
              "width": 0.5
             },
             "pattern": {
              "fillmode": "overlay",
              "size": 10,
              "solidity": 0.2
             }
            },
            "type": "barpolar"
           }
          ],
          "carpet": [
           {
            "aaxis": {
             "endlinecolor": "#2a3f5f",
             "gridcolor": "white",
             "linecolor": "white",
             "minorgridcolor": "white",
             "startlinecolor": "#2a3f5f"
            },
            "baxis": {
             "endlinecolor": "#2a3f5f",
             "gridcolor": "white",
             "linecolor": "white",
             "minorgridcolor": "white",
             "startlinecolor": "#2a3f5f"
            },
            "type": "carpet"
           }
          ],
          "choropleth": [
           {
            "colorbar": {
             "outlinewidth": 0,
             "ticks": ""
            },
            "type": "choropleth"
           }
          ],
          "contour": [
           {
            "colorbar": {
             "outlinewidth": 0,
             "ticks": ""
            },
            "colorscale": [
             [
              0,
              "#0d0887"
             ],
             [
              0.1111111111111111,
              "#46039f"
             ],
             [
              0.2222222222222222,
              "#7201a8"
             ],
             [
              0.3333333333333333,
              "#9c179e"
             ],
             [
              0.4444444444444444,
              "#bd3786"
             ],
             [
              0.5555555555555556,
              "#d8576b"
             ],
             [
              0.6666666666666666,
              "#ed7953"
             ],
             [
              0.7777777777777778,
              "#fb9f3a"
             ],
             [
              0.8888888888888888,
              "#fdca26"
             ],
             [
              1,
              "#f0f921"
             ]
            ],
            "type": "contour"
           }
          ],
          "contourcarpet": [
           {
            "colorbar": {
             "outlinewidth": 0,
             "ticks": ""
            },
            "type": "contourcarpet"
           }
          ],
          "heatmap": [
           {
            "colorbar": {
             "outlinewidth": 0,
             "ticks": ""
            },
            "colorscale": [
             [
              0,
              "#0d0887"
             ],
             [
              0.1111111111111111,
              "#46039f"
             ],
             [
              0.2222222222222222,
              "#7201a8"
             ],
             [
              0.3333333333333333,
              "#9c179e"
             ],
             [
              0.4444444444444444,
              "#bd3786"
             ],
             [
              0.5555555555555556,
              "#d8576b"
             ],
             [
              0.6666666666666666,
              "#ed7953"
             ],
             [
              0.7777777777777778,
              "#fb9f3a"
             ],
             [
              0.8888888888888888,
              "#fdca26"
             ],
             [
              1,
              "#f0f921"
             ]
            ],
            "type": "heatmap"
           }
          ],
          "heatmapgl": [
           {
            "colorbar": {
             "outlinewidth": 0,
             "ticks": ""
            },
            "colorscale": [
             [
              0,
              "#0d0887"
             ],
             [
              0.1111111111111111,
              "#46039f"
             ],
             [
              0.2222222222222222,
              "#7201a8"
             ],
             [
              0.3333333333333333,
              "#9c179e"
             ],
             [
              0.4444444444444444,
              "#bd3786"
             ],
             [
              0.5555555555555556,
              "#d8576b"
             ],
             [
              0.6666666666666666,
              "#ed7953"
             ],
             [
              0.7777777777777778,
              "#fb9f3a"
             ],
             [
              0.8888888888888888,
              "#fdca26"
             ],
             [
              1,
              "#f0f921"
             ]
            ],
            "type": "heatmapgl"
           }
          ],
          "histogram": [
           {
            "marker": {
             "pattern": {
              "fillmode": "overlay",
              "size": 10,
              "solidity": 0.2
             }
            },
            "type": "histogram"
           }
          ],
          "histogram2d": [
           {
            "colorbar": {
             "outlinewidth": 0,
             "ticks": ""
            },
            "colorscale": [
             [
              0,
              "#0d0887"
             ],
             [
              0.1111111111111111,
              "#46039f"
             ],
             [
              0.2222222222222222,
              "#7201a8"
             ],
             [
              0.3333333333333333,
              "#9c179e"
             ],
             [
              0.4444444444444444,
              "#bd3786"
             ],
             [
              0.5555555555555556,
              "#d8576b"
             ],
             [
              0.6666666666666666,
              "#ed7953"
             ],
             [
              0.7777777777777778,
              "#fb9f3a"
             ],
             [
              0.8888888888888888,
              "#fdca26"
             ],
             [
              1,
              "#f0f921"
             ]
            ],
            "type": "histogram2d"
           }
          ],
          "histogram2dcontour": [
           {
            "colorbar": {
             "outlinewidth": 0,
             "ticks": ""
            },
            "colorscale": [
             [
              0,
              "#0d0887"
             ],
             [
              0.1111111111111111,
              "#46039f"
             ],
             [
              0.2222222222222222,
              "#7201a8"
             ],
             [
              0.3333333333333333,
              "#9c179e"
             ],
             [
              0.4444444444444444,
              "#bd3786"
             ],
             [
              0.5555555555555556,
              "#d8576b"
             ],
             [
              0.6666666666666666,
              "#ed7953"
             ],
             [
              0.7777777777777778,
              "#fb9f3a"
             ],
             [
              0.8888888888888888,
              "#fdca26"
             ],
             [
              1,
              "#f0f921"
             ]
            ],
            "type": "histogram2dcontour"
           }
          ],
          "mesh3d": [
           {
            "colorbar": {
             "outlinewidth": 0,
             "ticks": ""
            },
            "type": "mesh3d"
           }
          ],
          "parcoords": [
           {
            "line": {
             "colorbar": {
              "outlinewidth": 0,
              "ticks": ""
             }
            },
            "type": "parcoords"
           }
          ],
          "pie": [
           {
            "automargin": true,
            "type": "pie"
           }
          ],
          "scatter": [
           {
            "fillpattern": {
             "fillmode": "overlay",
             "size": 10,
             "solidity": 0.2
            },
            "type": "scatter"
           }
          ],
          "scatter3d": [
           {
            "line": {
             "colorbar": {
              "outlinewidth": 0,
              "ticks": ""
             }
            },
            "marker": {
             "colorbar": {
              "outlinewidth": 0,
              "ticks": ""
             }
            },
            "type": "scatter3d"
           }
          ],
          "scattercarpet": [
           {
            "marker": {
             "colorbar": {
              "outlinewidth": 0,
              "ticks": ""
             }
            },
            "type": "scattercarpet"
           }
          ],
          "scattergeo": [
           {
            "marker": {
             "colorbar": {
              "outlinewidth": 0,
              "ticks": ""
             }
            },
            "type": "scattergeo"
           }
          ],
          "scattergl": [
           {
            "marker": {
             "colorbar": {
              "outlinewidth": 0,
              "ticks": ""
             }
            },
            "type": "scattergl"
           }
          ],
          "scattermapbox": [
           {
            "marker": {
             "colorbar": {
              "outlinewidth": 0,
              "ticks": ""
             }
            },
            "type": "scattermapbox"
           }
          ],
          "scatterpolar": [
           {
            "marker": {
             "colorbar": {
              "outlinewidth": 0,
              "ticks": ""
             }
            },
            "type": "scatterpolar"
           }
          ],
          "scatterpolargl": [
           {
            "marker": {
             "colorbar": {
              "outlinewidth": 0,
              "ticks": ""
             }
            },
            "type": "scatterpolargl"
           }
          ],
          "scatterternary": [
           {
            "marker": {
             "colorbar": {
              "outlinewidth": 0,
              "ticks": ""
             }
            },
            "type": "scatterternary"
           }
          ],
          "surface": [
           {
            "colorbar": {
             "outlinewidth": 0,
             "ticks": ""
            },
            "colorscale": [
             [
              0,
              "#0d0887"
             ],
             [
              0.1111111111111111,
              "#46039f"
             ],
             [
              0.2222222222222222,
              "#7201a8"
             ],
             [
              0.3333333333333333,
              "#9c179e"
             ],
             [
              0.4444444444444444,
              "#bd3786"
             ],
             [
              0.5555555555555556,
              "#d8576b"
             ],
             [
              0.6666666666666666,
              "#ed7953"
             ],
             [
              0.7777777777777778,
              "#fb9f3a"
             ],
             [
              0.8888888888888888,
              "#fdca26"
             ],
             [
              1,
              "#f0f921"
             ]
            ],
            "type": "surface"
           }
          ],
          "table": [
           {
            "cells": {
             "fill": {
              "color": "#EBF0F8"
             },
             "line": {
              "color": "white"
             }
            },
            "header": {
             "fill": {
              "color": "#C8D4E3"
             },
             "line": {
              "color": "white"
             }
            },
            "type": "table"
           }
          ]
         },
         "layout": {
          "annotationdefaults": {
           "arrowcolor": "#2a3f5f",
           "arrowhead": 0,
           "arrowwidth": 1
          },
          "autotypenumbers": "strict",
          "coloraxis": {
           "colorbar": {
            "outlinewidth": 0,
            "ticks": ""
           }
          },
          "colorscale": {
           "diverging": [
            [
             0,
             "#8e0152"
            ],
            [
             0.1,
             "#c51b7d"
            ],
            [
             0.2,
             "#de77ae"
            ],
            [
             0.3,
             "#f1b6da"
            ],
            [
             0.4,
             "#fde0ef"
            ],
            [
             0.5,
             "#f7f7f7"
            ],
            [
             0.6,
             "#e6f5d0"
            ],
            [
             0.7,
             "#b8e186"
            ],
            [
             0.8,
             "#7fbc41"
            ],
            [
             0.9,
             "#4d9221"
            ],
            [
             1,
             "#276419"
            ]
           ],
           "sequential": [
            [
             0,
             "#0d0887"
            ],
            [
             0.1111111111111111,
             "#46039f"
            ],
            [
             0.2222222222222222,
             "#7201a8"
            ],
            [
             0.3333333333333333,
             "#9c179e"
            ],
            [
             0.4444444444444444,
             "#bd3786"
            ],
            [
             0.5555555555555556,
             "#d8576b"
            ],
            [
             0.6666666666666666,
             "#ed7953"
            ],
            [
             0.7777777777777778,
             "#fb9f3a"
            ],
            [
             0.8888888888888888,
             "#fdca26"
            ],
            [
             1,
             "#f0f921"
            ]
           ],
           "sequentialminus": [
            [
             0,
             "#0d0887"
            ],
            [
             0.1111111111111111,
             "#46039f"
            ],
            [
             0.2222222222222222,
             "#7201a8"
            ],
            [
             0.3333333333333333,
             "#9c179e"
            ],
            [
             0.4444444444444444,
             "#bd3786"
            ],
            [
             0.5555555555555556,
             "#d8576b"
            ],
            [
             0.6666666666666666,
             "#ed7953"
            ],
            [
             0.7777777777777778,
             "#fb9f3a"
            ],
            [
             0.8888888888888888,
             "#fdca26"
            ],
            [
             1,
             "#f0f921"
            ]
           ]
          },
          "colorway": [
           "#636efa",
           "#EF553B",
           "#00cc96",
           "#ab63fa",
           "#FFA15A",
           "#19d3f3",
           "#FF6692",
           "#B6E880",
           "#FF97FF",
           "#FECB52"
          ],
          "font": {
           "color": "#2a3f5f"
          },
          "geo": {
           "bgcolor": "white",
           "lakecolor": "white",
           "landcolor": "#E5ECF6",
           "showlakes": true,
           "showland": true,
           "subunitcolor": "white"
          },
          "hoverlabel": {
           "align": "left"
          },
          "hovermode": "closest",
          "mapbox": {
           "style": "light"
          },
          "paper_bgcolor": "white",
          "plot_bgcolor": "#E5ECF6",
          "polar": {
           "angularaxis": {
            "gridcolor": "white",
            "linecolor": "white",
            "ticks": ""
           },
           "bgcolor": "#E5ECF6",
           "radialaxis": {
            "gridcolor": "white",
            "linecolor": "white",
            "ticks": ""
           }
          },
          "scene": {
           "xaxis": {
            "backgroundcolor": "#E5ECF6",
            "gridcolor": "white",
            "gridwidth": 2,
            "linecolor": "white",
            "showbackground": true,
            "ticks": "",
            "zerolinecolor": "white"
           },
           "yaxis": {
            "backgroundcolor": "#E5ECF6",
            "gridcolor": "white",
            "gridwidth": 2,
            "linecolor": "white",
            "showbackground": true,
            "ticks": "",
            "zerolinecolor": "white"
           },
           "zaxis": {
            "backgroundcolor": "#E5ECF6",
            "gridcolor": "white",
            "gridwidth": 2,
            "linecolor": "white",
            "showbackground": true,
            "ticks": "",
            "zerolinecolor": "white"
           }
          },
          "shapedefaults": {
           "line": {
            "color": "#2a3f5f"
           }
          },
          "ternary": {
           "aaxis": {
            "gridcolor": "white",
            "linecolor": "white",
            "ticks": ""
           },
           "baxis": {
            "gridcolor": "white",
            "linecolor": "white",
            "ticks": ""
           },
           "bgcolor": "#E5ECF6",
           "caxis": {
            "gridcolor": "white",
            "linecolor": "white",
            "ticks": ""
           }
          },
          "title": {
           "x": 0.05
          },
          "xaxis": {
           "automargin": true,
           "gridcolor": "white",
           "linecolor": "white",
           "ticks": "",
           "title": {
            "standoff": 15
           },
           "zerolinecolor": "white",
           "zerolinewidth": 2
          },
          "yaxis": {
           "automargin": true,
           "gridcolor": "white",
           "linecolor": "white",
           "ticks": "",
           "title": {
            "standoff": 15
           },
           "zerolinecolor": "white",
           "zerolinewidth": 2
          }
         }
        },
        "width": 900
       }
      },
      "text/html": [
       "<div>                            <div id=\"7c86d945-9073-4e7d-af38-c6e76c403116\" class=\"plotly-graph-div\" style=\"height:450px; width:900px;\"></div>            <script type=\"text/javascript\">                require([\"plotly\"], function(Plotly) {                    window.PLOTLYENV=window.PLOTLYENV || {};                                    if (document.getElementById(\"7c86d945-9073-4e7d-af38-c6e76c403116\")) {                    Plotly.newPlot(                        \"7c86d945-9073-4e7d-af38-c6e76c403116\",                        [{\"hoverinfo\":\"label+percent+name\",\"labels\":[\"Main\",\"Fryer\",\"LED Lamp\",\"Incandescent lamp\",\"Laptop Computer\",\"Fan\"],\"name\":\"Porcentaje\",\"sort\":false,\"textinfo\":\"label+percent\",\"values\":[0.17000165371258477,0.15544898296676038,0.3954026790143873,0.16371754589052426,0.11542913841574337],\"type\":\"pie\",\"domain\":{\"x\":[0.0,0.45],\"y\":[0.0,1.0]},\"hole\":0.3},{\"hoverinfo\":\"label+value+name\",\"labels\":[\"Main\",\"Fryer\",\"LED Lamp\",\"Incandescent lamp\",\"Laptop Computer\",\"Fan\"],\"name\":\"Energ\\u00eda\",\"sort\":false,\"textinfo\":\"label+value\",\"texttemplate\":\"%{value:.1f} kWh\",\"values\":[0.0,0.0,0.1,0.0,0.0],\"type\":\"pie\",\"domain\":{\"x\":[0.55,1.0],\"y\":[0.0,1.0]},\"hole\":0.3}],                        {\"template\":{\"data\":{\"histogram2dcontour\":[{\"type\":\"histogram2dcontour\",\"colorbar\":{\"outlinewidth\":0,\"ticks\":\"\"},\"colorscale\":[[0.0,\"#0d0887\"],[0.1111111111111111,\"#46039f\"],[0.2222222222222222,\"#7201a8\"],[0.3333333333333333,\"#9c179e\"],[0.4444444444444444,\"#bd3786\"],[0.5555555555555556,\"#d8576b\"],[0.6666666666666666,\"#ed7953\"],[0.7777777777777778,\"#fb9f3a\"],[0.8888888888888888,\"#fdca26\"],[1.0,\"#f0f921\"]]}],\"choropleth\":[{\"type\":\"choropleth\",\"colorbar\":{\"outlinewidth\":0,\"ticks\":\"\"}}],\"histogram2d\":[{\"type\":\"histogram2d\",\"colorbar\":{\"outlinewidth\":0,\"ticks\":\"\"},\"colorscale\":[[0.0,\"#0d0887\"],[0.1111111111111111,\"#46039f\"],[0.2222222222222222,\"#7201a8\"],[0.3333333333333333,\"#9c179e\"],[0.4444444444444444,\"#bd3786\"],[0.5555555555555556,\"#d8576b\"],[0.6666666666666666,\"#ed7953\"],[0.7777777777777778,\"#fb9f3a\"],[0.8888888888888888,\"#fdca26\"],[1.0,\"#f0f921\"]]}],\"heatmap\":[{\"type\":\"heatmap\",\"colorbar\":{\"outlinewidth\":0,\"ticks\":\"\"},\"colorscale\":[[0.0,\"#0d0887\"],[0.1111111111111111,\"#46039f\"],[0.2222222222222222,\"#7201a8\"],[0.3333333333333333,\"#9c179e\"],[0.4444444444444444,\"#bd3786\"],[0.5555555555555556,\"#d8576b\"],[0.6666666666666666,\"#ed7953\"],[0.7777777777777778,\"#fb9f3a\"],[0.8888888888888888,\"#fdca26\"],[1.0,\"#f0f921\"]]}],\"heatmapgl\":[{\"type\":\"heatmapgl\",\"colorbar\":{\"outlinewidth\":0,\"ticks\":\"\"},\"colorscale\":[[0.0,\"#0d0887\"],[0.1111111111111111,\"#46039f\"],[0.2222222222222222,\"#7201a8\"],[0.3333333333333333,\"#9c179e\"],[0.4444444444444444,\"#bd3786\"],[0.5555555555555556,\"#d8576b\"],[0.6666666666666666,\"#ed7953\"],[0.7777777777777778,\"#fb9f3a\"],[0.8888888888888888,\"#fdca26\"],[1.0,\"#f0f921\"]]}],\"contourcarpet\":[{\"type\":\"contourcarpet\",\"colorbar\":{\"outlinewidth\":0,\"ticks\":\"\"}}],\"contour\":[{\"type\":\"contour\",\"colorbar\":{\"outlinewidth\":0,\"ticks\":\"\"},\"colorscale\":[[0.0,\"#0d0887\"],[0.1111111111111111,\"#46039f\"],[0.2222222222222222,\"#7201a8\"],[0.3333333333333333,\"#9c179e\"],[0.4444444444444444,\"#bd3786\"],[0.5555555555555556,\"#d8576b\"],[0.6666666666666666,\"#ed7953\"],[0.7777777777777778,\"#fb9f3a\"],[0.8888888888888888,\"#fdca26\"],[1.0,\"#f0f921\"]]}],\"surface\":[{\"type\":\"surface\",\"colorbar\":{\"outlinewidth\":0,\"ticks\":\"\"},\"colorscale\":[[0.0,\"#0d0887\"],[0.1111111111111111,\"#46039f\"],[0.2222222222222222,\"#7201a8\"],[0.3333333333333333,\"#9c179e\"],[0.4444444444444444,\"#bd3786\"],[0.5555555555555556,\"#d8576b\"],[0.6666666666666666,\"#ed7953\"],[0.7777777777777778,\"#fb9f3a\"],[0.8888888888888888,\"#fdca26\"],[1.0,\"#f0f921\"]]}],\"mesh3d\":[{\"type\":\"mesh3d\",\"colorbar\":{\"outlinewidth\":0,\"ticks\":\"\"}}],\"scatter\":[{\"fillpattern\":{\"fillmode\":\"overlay\",\"size\":10,\"solidity\":0.2},\"type\":\"scatter\"}],\"parcoords\":[{\"type\":\"parcoords\",\"line\":{\"colorbar\":{\"outlinewidth\":0,\"ticks\":\"\"}}}],\"scatterpolargl\":[{\"type\":\"scatterpolargl\",\"marker\":{\"colorbar\":{\"outlinewidth\":0,\"ticks\":\"\"}}}],\"bar\":[{\"error_x\":{\"color\":\"#2a3f5f\"},\"error_y\":{\"color\":\"#2a3f5f\"},\"marker\":{\"line\":{\"color\":\"#E5ECF6\",\"width\":0.5},\"pattern\":{\"fillmode\":\"overlay\",\"size\":10,\"solidity\":0.2}},\"type\":\"bar\"}],\"scattergeo\":[{\"type\":\"scattergeo\",\"marker\":{\"colorbar\":{\"outlinewidth\":0,\"ticks\":\"\"}}}],\"scatterpolar\":[{\"type\":\"scatterpolar\",\"marker\":{\"colorbar\":{\"outlinewidth\":0,\"ticks\":\"\"}}}],\"histogram\":[{\"marker\":{\"pattern\":{\"fillmode\":\"overlay\",\"size\":10,\"solidity\":0.2}},\"type\":\"histogram\"}],\"scattergl\":[{\"type\":\"scattergl\",\"marker\":{\"colorbar\":{\"outlinewidth\":0,\"ticks\":\"\"}}}],\"scatter3d\":[{\"type\":\"scatter3d\",\"line\":{\"colorbar\":{\"outlinewidth\":0,\"ticks\":\"\"}},\"marker\":{\"colorbar\":{\"outlinewidth\":0,\"ticks\":\"\"}}}],\"scattermapbox\":[{\"type\":\"scattermapbox\",\"marker\":{\"colorbar\":{\"outlinewidth\":0,\"ticks\":\"\"}}}],\"scatterternary\":[{\"type\":\"scatterternary\",\"marker\":{\"colorbar\":{\"outlinewidth\":0,\"ticks\":\"\"}}}],\"scattercarpet\":[{\"type\":\"scattercarpet\",\"marker\":{\"colorbar\":{\"outlinewidth\":0,\"ticks\":\"\"}}}],\"carpet\":[{\"aaxis\":{\"endlinecolor\":\"#2a3f5f\",\"gridcolor\":\"white\",\"linecolor\":\"white\",\"minorgridcolor\":\"white\",\"startlinecolor\":\"#2a3f5f\"},\"baxis\":{\"endlinecolor\":\"#2a3f5f\",\"gridcolor\":\"white\",\"linecolor\":\"white\",\"minorgridcolor\":\"white\",\"startlinecolor\":\"#2a3f5f\"},\"type\":\"carpet\"}],\"table\":[{\"cells\":{\"fill\":{\"color\":\"#EBF0F8\"},\"line\":{\"color\":\"white\"}},\"header\":{\"fill\":{\"color\":\"#C8D4E3\"},\"line\":{\"color\":\"white\"}},\"type\":\"table\"}],\"barpolar\":[{\"marker\":{\"line\":{\"color\":\"#E5ECF6\",\"width\":0.5},\"pattern\":{\"fillmode\":\"overlay\",\"size\":10,\"solidity\":0.2}},\"type\":\"barpolar\"}],\"pie\":[{\"automargin\":true,\"type\":\"pie\"}]},\"layout\":{\"autotypenumbers\":\"strict\",\"colorway\":[\"#636efa\",\"#EF553B\",\"#00cc96\",\"#ab63fa\",\"#FFA15A\",\"#19d3f3\",\"#FF6692\",\"#B6E880\",\"#FF97FF\",\"#FECB52\"],\"font\":{\"color\":\"#2a3f5f\"},\"hovermode\":\"closest\",\"hoverlabel\":{\"align\":\"left\"},\"paper_bgcolor\":\"white\",\"plot_bgcolor\":\"#E5ECF6\",\"polar\":{\"bgcolor\":\"#E5ECF6\",\"angularaxis\":{\"gridcolor\":\"white\",\"linecolor\":\"white\",\"ticks\":\"\"},\"radialaxis\":{\"gridcolor\":\"white\",\"linecolor\":\"white\",\"ticks\":\"\"}},\"ternary\":{\"bgcolor\":\"#E5ECF6\",\"aaxis\":{\"gridcolor\":\"white\",\"linecolor\":\"white\",\"ticks\":\"\"},\"baxis\":{\"gridcolor\":\"white\",\"linecolor\":\"white\",\"ticks\":\"\"},\"caxis\":{\"gridcolor\":\"white\",\"linecolor\":\"white\",\"ticks\":\"\"}},\"coloraxis\":{\"colorbar\":{\"outlinewidth\":0,\"ticks\":\"\"}},\"colorscale\":{\"sequential\":[[0.0,\"#0d0887\"],[0.1111111111111111,\"#46039f\"],[0.2222222222222222,\"#7201a8\"],[0.3333333333333333,\"#9c179e\"],[0.4444444444444444,\"#bd3786\"],[0.5555555555555556,\"#d8576b\"],[0.6666666666666666,\"#ed7953\"],[0.7777777777777778,\"#fb9f3a\"],[0.8888888888888888,\"#fdca26\"],[1.0,\"#f0f921\"]],\"sequentialminus\":[[0.0,\"#0d0887\"],[0.1111111111111111,\"#46039f\"],[0.2222222222222222,\"#7201a8\"],[0.3333333333333333,\"#9c179e\"],[0.4444444444444444,\"#bd3786\"],[0.5555555555555556,\"#d8576b\"],[0.6666666666666666,\"#ed7953\"],[0.7777777777777778,\"#fb9f3a\"],[0.8888888888888888,\"#fdca26\"],[1.0,\"#f0f921\"]],\"diverging\":[[0,\"#8e0152\"],[0.1,\"#c51b7d\"],[0.2,\"#de77ae\"],[0.3,\"#f1b6da\"],[0.4,\"#fde0ef\"],[0.5,\"#f7f7f7\"],[0.6,\"#e6f5d0\"],[0.7,\"#b8e186\"],[0.8,\"#7fbc41\"],[0.9,\"#4d9221\"],[1,\"#276419\"]]},\"xaxis\":{\"gridcolor\":\"white\",\"linecolor\":\"white\",\"ticks\":\"\",\"title\":{\"standoff\":15},\"zerolinecolor\":\"white\",\"automargin\":true,\"zerolinewidth\":2},\"yaxis\":{\"gridcolor\":\"white\",\"linecolor\":\"white\",\"ticks\":\"\",\"title\":{\"standoff\":15},\"zerolinecolor\":\"white\",\"automargin\":true,\"zerolinewidth\":2},\"scene\":{\"xaxis\":{\"backgroundcolor\":\"#E5ECF6\",\"gridcolor\":\"white\",\"linecolor\":\"white\",\"showbackground\":true,\"ticks\":\"\",\"zerolinecolor\":\"white\",\"gridwidth\":2},\"yaxis\":{\"backgroundcolor\":\"#E5ECF6\",\"gridcolor\":\"white\",\"linecolor\":\"white\",\"showbackground\":true,\"ticks\":\"\",\"zerolinecolor\":\"white\",\"gridwidth\":2},\"zaxis\":{\"backgroundcolor\":\"#E5ECF6\",\"gridcolor\":\"white\",\"linecolor\":\"white\",\"showbackground\":true,\"ticks\":\"\",\"zerolinecolor\":\"white\",\"gridwidth\":2}},\"shapedefaults\":{\"line\":{\"color\":\"#2a3f5f\"}},\"annotationdefaults\":{\"arrowcolor\":\"#2a3f5f\",\"arrowhead\":0,\"arrowwidth\":1},\"geo\":{\"bgcolor\":\"white\",\"landcolor\":\"#E5ECF6\",\"subunitcolor\":\"white\",\"showland\":true,\"showlakes\":true,\"lakecolor\":\"white\"},\"title\":{\"x\":0.05},\"mapbox\":{\"style\":\"light\"}}},\"width\":900,\"height\":450,\"annotations\":[{\"showarrow\":false,\"text\":\"%\",\"x\":0.21,\"y\":0.5,\"font\":{\"size\":22}},{\"showarrow\":false,\"text\":\"kWh\",\"x\":0.81,\"y\":0.5,\"font\":{\"size\":22}}]},                        {\"responsive\": true}                    ).then(function(){\n",
       "                            \n",
       "var gd = document.getElementById('7c86d945-9073-4e7d-af38-c6e76c403116');\n",
       "var x = new MutationObserver(function (mutations, observer) {{\n",
       "        var display = window.getComputedStyle(gd).display;\n",
       "        if (!display || display === 'none') {{\n",
       "            console.log([gd, 'removed!']);\n",
       "            Plotly.purge(gd);\n",
       "            observer.disconnect();\n",
       "        }}\n",
       "}});\n",
       "\n",
       "// Listen for the removal of the full notebook cells\n",
       "var notebookContainer = gd.closest('#notebook-container');\n",
       "if (notebookContainer) {{\n",
       "    x.observe(notebookContainer, {childList: true});\n",
       "}}\n",
       "\n",
       "// Listen for the clearing of the current output cell\n",
       "var outputEl = gd.closest('.output');\n",
       "if (outputEl) {{\n",
       "    x.observe(outputEl, {childList: true});\n",
       "}}\n",
       "\n",
       "                        })                };                });            </script>        </div>"
      ]
     },
     "metadata": {},
     "output_type": "display_data"
    },
    {
     "data": {
      "application/vnd.plotly.v1+json": {
       "config": {
        "plotlyServerURL": "https://plot.ly"
       },
       "data": [
        {
         "hovertemplate": "Dispositivos=Main<br>Fecha=%{x}<br>Potencia (W)=%{y}<extra></extra>",
         "legendgroup": "Main",
         "line": {
          "color": "#636efa",
          "dash": "solid"
         },
         "marker": {
          "symbol": "circle"
         },
         "mode": "lines",
         "name": "Main",
         "orientation": "v",
         "showlegend": true,
         "type": "scatter",
         "x": [
          "2023-02-24T17:40:00+01:00",
          "2023-02-24T17:41:00+01:00",
          "2023-02-24T17:42:00+01:00",
          "2023-02-24T17:43:00+01:00",
          "2023-02-24T17:44:00+01:00",
          "2023-02-24T17:45:00+01:00",
          "2023-02-24T17:46:00+01:00",
          "2023-02-24T17:47:00+01:00",
          "2023-02-24T17:48:00+01:00",
          "2023-02-24T17:49:00+01:00",
          "2023-02-24T17:50:00+01:00",
          "2023-02-24T17:51:00+01:00",
          "2023-02-24T17:52:00+01:00",
          "2023-02-24T17:53:00+01:00",
          "2023-02-24T17:54:00+01:00",
          "2023-02-24T17:55:00+01:00",
          "2023-02-24T17:56:00+01:00",
          "2023-02-24T17:57:00+01:00",
          "2023-02-24T17:58:00+01:00",
          "2023-02-24T17:59:00+01:00",
          "2023-02-24T18:00:00+01:00",
          "2023-02-24T18:01:00+01:00",
          "2023-02-24T18:02:00+01:00",
          "2023-02-24T18:03:00+01:00",
          "2023-02-24T18:04:00+01:00",
          "2023-02-24T18:05:00+01:00",
          "2023-02-24T18:06:00+01:00",
          "2023-02-24T18:07:00+01:00",
          "2023-02-24T18:08:00+01:00",
          "2023-02-24T18:09:00+01:00",
          "2023-02-24T18:10:00+01:00",
          "2023-02-24T18:11:00+01:00",
          "2023-02-24T18:12:00+01:00",
          "2023-02-24T18:13:00+01:00",
          "2023-02-24T18:14:00+01:00",
          "2023-02-24T18:15:00+01:00",
          "2023-02-24T18:16:00+01:00",
          "2023-02-24T18:17:00+01:00",
          "2023-02-24T18:18:00+01:00",
          "2023-02-24T18:19:00+01:00",
          "2023-02-24T18:20:00+01:00",
          "2023-02-24T18:21:00+01:00",
          "2023-02-24T18:22:00+01:00",
          "2023-02-24T18:23:00+01:00",
          "2023-02-24T18:24:00+01:00",
          "2023-02-24T18:25:00+01:00",
          "2023-02-24T18:26:00+01:00",
          "2023-02-24T18:27:00+01:00",
          "2023-02-24T18:28:00+01:00",
          "2023-02-24T18:29:00+01:00",
          "2023-02-24T18:30:00+01:00",
          "2023-02-24T18:31:00+01:00",
          "2023-02-24T18:32:00+01:00",
          "2023-02-24T18:33:00+01:00",
          "2023-02-24T18:34:00+01:00",
          "2023-02-24T18:35:00+01:00",
          "2023-02-24T18:36:00+01:00",
          "2023-02-24T18:37:00+01:00",
          "2023-02-24T18:38:00+01:00",
          "2023-02-24T18:39:00+01:00",
          "2023-02-24T18:40:00+01:00",
          "2023-02-24T18:41:00+01:00",
          "2023-02-24T18:42:00+01:00",
          "2023-02-24T18:43:00+01:00",
          "2023-02-24T18:44:00+01:00",
          "2023-02-24T18:45:00+01:00",
          "2023-02-24T18:46:00+01:00",
          "2023-02-24T18:47:00+01:00",
          "2023-02-24T18:48:00+01:00",
          "2023-02-24T18:49:00+01:00",
          "2023-02-24T18:50:00+01:00",
          "2023-02-24T18:51:00+01:00"
         ],
         "xaxis": "x",
         "y": [
          0,
          26,
          26,
          0,
          18,
          18,
          18,
          18,
          18,
          18,
          0,
          0,
          0,
          0,
          18,
          18,
          0,
          0,
          18,
          18,
          18,
          18,
          18,
          18,
          26,
          18,
          18,
          26,
          26,
          26,
          18,
          26,
          26,
          26,
          18,
          18,
          18,
          18,
          18,
          0,
          0,
          0,
          0,
          0,
          18,
          18,
          18,
          18,
          18,
          0,
          0,
          0,
          0,
          0,
          0,
          18,
          18,
          18,
          18,
          18,
          18,
          18,
          26,
          26,
          18,
          18,
          18,
          18,
          18,
          26,
          26,
          26
         ],
         "yaxis": "y"
        },
        {
         "hovertemplate": "Dispositivos=Fryer<br>Fecha=%{x}<br>Potencia (W)=%{y}<extra></extra>",
         "legendgroup": "Fryer",
         "line": {
          "color": "#EF553B",
          "dash": "solid"
         },
         "marker": {
          "symbol": "circle"
         },
         "mode": "lines",
         "name": "Fryer",
         "orientation": "v",
         "showlegend": true,
         "type": "scatter",
         "x": [
          "2023-02-24T17:40:00+01:00",
          "2023-02-24T17:41:00+01:00",
          "2023-02-24T17:42:00+01:00",
          "2023-02-24T17:43:00+01:00",
          "2023-02-24T17:44:00+01:00",
          "2023-02-24T17:45:00+01:00",
          "2023-02-24T17:46:00+01:00",
          "2023-02-24T17:47:00+01:00",
          "2023-02-24T17:48:00+01:00",
          "2023-02-24T17:49:00+01:00",
          "2023-02-24T17:50:00+01:00",
          "2023-02-24T17:51:00+01:00",
          "2023-02-24T17:52:00+01:00",
          "2023-02-24T17:53:00+01:00",
          "2023-02-24T17:54:00+01:00",
          "2023-02-24T17:55:00+01:00",
          "2023-02-24T17:56:00+01:00",
          "2023-02-24T17:57:00+01:00",
          "2023-02-24T17:58:00+01:00",
          "2023-02-24T17:59:00+01:00",
          "2023-02-24T18:00:00+01:00",
          "2023-02-24T18:01:00+01:00",
          "2023-02-24T18:02:00+01:00",
          "2023-02-24T18:03:00+01:00",
          "2023-02-24T18:04:00+01:00",
          "2023-02-24T18:05:00+01:00",
          "2023-02-24T18:06:00+01:00",
          "2023-02-24T18:07:00+01:00",
          "2023-02-24T18:08:00+01:00",
          "2023-02-24T18:09:00+01:00",
          "2023-02-24T18:10:00+01:00",
          "2023-02-24T18:11:00+01:00",
          "2023-02-24T18:12:00+01:00",
          "2023-02-24T18:13:00+01:00",
          "2023-02-24T18:14:00+01:00",
          "2023-02-24T18:15:00+01:00",
          "2023-02-24T18:16:00+01:00",
          "2023-02-24T18:17:00+01:00",
          "2023-02-24T18:18:00+01:00",
          "2023-02-24T18:19:00+01:00",
          "2023-02-24T18:20:00+01:00",
          "2023-02-24T18:21:00+01:00",
          "2023-02-24T18:22:00+01:00",
          "2023-02-24T18:23:00+01:00",
          "2023-02-24T18:24:00+01:00",
          "2023-02-24T18:25:00+01:00",
          "2023-02-24T18:26:00+01:00",
          "2023-02-24T18:27:00+01:00",
          "2023-02-24T18:28:00+01:00",
          "2023-02-24T18:29:00+01:00",
          "2023-02-24T18:30:00+01:00",
          "2023-02-24T18:31:00+01:00",
          "2023-02-24T18:32:00+01:00",
          "2023-02-24T18:33:00+01:00",
          "2023-02-24T18:34:00+01:00",
          "2023-02-24T18:35:00+01:00",
          "2023-02-24T18:36:00+01:00",
          "2023-02-24T18:37:00+01:00",
          "2023-02-24T18:38:00+01:00",
          "2023-02-24T18:39:00+01:00",
          "2023-02-24T18:40:00+01:00",
          "2023-02-24T18:41:00+01:00",
          "2023-02-24T18:42:00+01:00",
          "2023-02-24T18:43:00+01:00",
          "2023-02-24T18:44:00+01:00",
          "2023-02-24T18:45:00+01:00",
          "2023-02-24T18:46:00+01:00",
          "2023-02-24T18:47:00+01:00",
          "2023-02-24T18:48:00+01:00",
          "2023-02-24T18:49:00+01:00",
          "2023-02-24T18:50:00+01:00",
          "2023-02-24T18:51:00+01:00"
         ],
         "xaxis": "x",
         "y": [
          11,
          11,
          0,
          11,
          18,
          18,
          18,
          18,
          18,
          0,
          18,
          18,
          18,
          18,
          11,
          11,
          0,
          0,
          11,
          18,
          18,
          18,
          18,
          18,
          0,
          18,
          18,
          11,
          11,
          18,
          11,
          18,
          18,
          18,
          11,
          11,
          11,
          11,
          11,
          18,
          0,
          0,
          18,
          18,
          18,
          18,
          18,
          18,
          18,
          18,
          18,
          18,
          18,
          18,
          0,
          11,
          11,
          11,
          11,
          18,
          18,
          18,
          11,
          11,
          18,
          18,
          18,
          18,
          18,
          11,
          11,
          11
         ],
         "yaxis": "y"
        },
        {
         "hovertemplate": "Dispositivos=LED Lamp<br>Fecha=%{x}<br>Potencia (W)=%{y}<extra></extra>",
         "legendgroup": "LED Lamp",
         "line": {
          "color": "#00cc96",
          "dash": "solid"
         },
         "marker": {
          "symbol": "circle"
         },
         "mode": "lines",
         "name": "LED Lamp",
         "orientation": "v",
         "showlegend": true,
         "type": "scatter",
         "x": [
          "2023-02-24T17:40:00+01:00",
          "2023-02-24T17:41:00+01:00",
          "2023-02-24T17:42:00+01:00",
          "2023-02-24T17:43:00+01:00",
          "2023-02-24T17:44:00+01:00",
          "2023-02-24T17:45:00+01:00",
          "2023-02-24T17:46:00+01:00",
          "2023-02-24T17:47:00+01:00",
          "2023-02-24T17:48:00+01:00",
          "2023-02-24T17:49:00+01:00",
          "2023-02-24T17:50:00+01:00",
          "2023-02-24T17:51:00+01:00",
          "2023-02-24T17:52:00+01:00",
          "2023-02-24T17:53:00+01:00",
          "2023-02-24T17:54:00+01:00",
          "2023-02-24T17:55:00+01:00",
          "2023-02-24T17:56:00+01:00",
          "2023-02-24T17:57:00+01:00",
          "2023-02-24T17:58:00+01:00",
          "2023-02-24T17:59:00+01:00",
          "2023-02-24T18:00:00+01:00",
          "2023-02-24T18:01:00+01:00",
          "2023-02-24T18:02:00+01:00",
          "2023-02-24T18:03:00+01:00",
          "2023-02-24T18:04:00+01:00",
          "2023-02-24T18:05:00+01:00",
          "2023-02-24T18:06:00+01:00",
          "2023-02-24T18:07:00+01:00",
          "2023-02-24T18:08:00+01:00",
          "2023-02-24T18:09:00+01:00",
          "2023-02-24T18:10:00+01:00",
          "2023-02-24T18:11:00+01:00",
          "2023-02-24T18:12:00+01:00",
          "2023-02-24T18:13:00+01:00",
          "2023-02-24T18:14:00+01:00",
          "2023-02-24T18:15:00+01:00",
          "2023-02-24T18:16:00+01:00",
          "2023-02-24T18:17:00+01:00",
          "2023-02-24T18:18:00+01:00",
          "2023-02-24T18:19:00+01:00",
          "2023-02-24T18:20:00+01:00",
          "2023-02-24T18:21:00+01:00",
          "2023-02-24T18:22:00+01:00",
          "2023-02-24T18:23:00+01:00",
          "2023-02-24T18:24:00+01:00",
          "2023-02-24T18:25:00+01:00",
          "2023-02-24T18:26:00+01:00",
          "2023-02-24T18:27:00+01:00",
          "2023-02-24T18:28:00+01:00",
          "2023-02-24T18:29:00+01:00",
          "2023-02-24T18:30:00+01:00",
          "2023-02-24T18:31:00+01:00",
          "2023-02-24T18:32:00+01:00",
          "2023-02-24T18:33:00+01:00",
          "2023-02-24T18:34:00+01:00",
          "2023-02-24T18:35:00+01:00",
          "2023-02-24T18:36:00+01:00",
          "2023-02-24T18:37:00+01:00",
          "2023-02-24T18:38:00+01:00",
          "2023-02-24T18:39:00+01:00",
          "2023-02-24T18:40:00+01:00",
          "2023-02-24T18:41:00+01:00",
          "2023-02-24T18:42:00+01:00",
          "2023-02-24T18:43:00+01:00",
          "2023-02-24T18:44:00+01:00",
          "2023-02-24T18:45:00+01:00",
          "2023-02-24T18:46:00+01:00",
          "2023-02-24T18:47:00+01:00",
          "2023-02-24T18:48:00+01:00",
          "2023-02-24T18:49:00+01:00",
          "2023-02-24T18:50:00+01:00",
          "2023-02-24T18:51:00+01:00"
         ],
         "xaxis": "x",
         "y": [
          48,
          15,
          15,
          48,
          0,
          0,
          0,
          0,
          0,
          48,
          48,
          48,
          48,
          48,
          48,
          48,
          48,
          48,
          48,
          48,
          48,
          48,
          48,
          48,
          48,
          48,
          48,
          15,
          15,
          48,
          48,
          48,
          48,
          48,
          0,
          0,
          0,
          0,
          0,
          48,
          15,
          15,
          48,
          48,
          0,
          0,
          0,
          0,
          0,
          48,
          48,
          48,
          48,
          48,
          48,
          48,
          48,
          48,
          48,
          48,
          48,
          48,
          48,
          48,
          48,
          48,
          48,
          48,
          48,
          48,
          48,
          48
         ],
         "yaxis": "y"
        },
        {
         "hovertemplate": "Dispositivos=Incandescent lamp<br>Fecha=%{x}<br>Potencia (W)=%{y}<extra></extra>",
         "legendgroup": "Incandescent lamp",
         "line": {
          "color": "#ab63fa",
          "dash": "solid"
         },
         "marker": {
          "symbol": "circle"
         },
         "mode": "lines",
         "name": "Incandescent lamp",
         "orientation": "v",
         "showlegend": true,
         "type": "scatter",
         "x": [
          "2023-02-24T17:40:00+01:00",
          "2023-02-24T17:41:00+01:00",
          "2023-02-24T17:42:00+01:00",
          "2023-02-24T17:43:00+01:00",
          "2023-02-24T17:44:00+01:00",
          "2023-02-24T17:45:00+01:00",
          "2023-02-24T17:46:00+01:00",
          "2023-02-24T17:47:00+01:00",
          "2023-02-24T17:48:00+01:00",
          "2023-02-24T17:49:00+01:00",
          "2023-02-24T17:50:00+01:00",
          "2023-02-24T17:51:00+01:00",
          "2023-02-24T17:52:00+01:00",
          "2023-02-24T17:53:00+01:00",
          "2023-02-24T17:54:00+01:00",
          "2023-02-24T17:55:00+01:00",
          "2023-02-24T17:56:00+01:00",
          "2023-02-24T17:57:00+01:00",
          "2023-02-24T17:58:00+01:00",
          "2023-02-24T17:59:00+01:00",
          "2023-02-24T18:00:00+01:00",
          "2023-02-24T18:01:00+01:00",
          "2023-02-24T18:02:00+01:00",
          "2023-02-24T18:03:00+01:00",
          "2023-02-24T18:04:00+01:00",
          "2023-02-24T18:05:00+01:00",
          "2023-02-24T18:06:00+01:00",
          "2023-02-24T18:07:00+01:00",
          "2023-02-24T18:08:00+01:00",
          "2023-02-24T18:09:00+01:00",
          "2023-02-24T18:10:00+01:00",
          "2023-02-24T18:11:00+01:00",
          "2023-02-24T18:12:00+01:00",
          "2023-02-24T18:13:00+01:00",
          "2023-02-24T18:14:00+01:00",
          "2023-02-24T18:15:00+01:00",
          "2023-02-24T18:16:00+01:00",
          "2023-02-24T18:17:00+01:00",
          "2023-02-24T18:18:00+01:00",
          "2023-02-24T18:19:00+01:00",
          "2023-02-24T18:20:00+01:00",
          "2023-02-24T18:21:00+01:00",
          "2023-02-24T18:22:00+01:00",
          "2023-02-24T18:23:00+01:00",
          "2023-02-24T18:24:00+01:00",
          "2023-02-24T18:25:00+01:00",
          "2023-02-24T18:26:00+01:00",
          "2023-02-24T18:27:00+01:00",
          "2023-02-24T18:28:00+01:00",
          "2023-02-24T18:29:00+01:00",
          "2023-02-24T18:30:00+01:00",
          "2023-02-24T18:31:00+01:00",
          "2023-02-24T18:32:00+01:00",
          "2023-02-24T18:33:00+01:00",
          "2023-02-24T18:34:00+01:00",
          "2023-02-24T18:35:00+01:00",
          "2023-02-24T18:36:00+01:00",
          "2023-02-24T18:37:00+01:00",
          "2023-02-24T18:38:00+01:00",
          "2023-02-24T18:39:00+01:00",
          "2023-02-24T18:40:00+01:00",
          "2023-02-24T18:41:00+01:00",
          "2023-02-24T18:42:00+01:00",
          "2023-02-24T18:43:00+01:00",
          "2023-02-24T18:44:00+01:00",
          "2023-02-24T18:45:00+01:00",
          "2023-02-24T18:46:00+01:00",
          "2023-02-24T18:47:00+01:00",
          "2023-02-24T18:48:00+01:00",
          "2023-02-24T18:49:00+01:00",
          "2023-02-24T18:50:00+01:00",
          "2023-02-24T18:51:00+01:00"
         ],
         "xaxis": "x",
         "y": [
          0,
          0,
          30,
          0,
          0,
          0,
          0,
          0,
          0,
          15,
          15,
          15,
          15,
          15,
          0,
          0,
          30,
          30,
          0,
          30,
          30,
          30,
          30,
          30,
          30,
          0,
          0,
          30,
          30,
          15,
          30,
          15,
          15,
          15,
          0,
          0,
          0,
          0,
          0,
          0,
          30,
          30,
          0,
          0,
          0,
          0,
          0,
          0,
          0,
          15,
          15,
          15,
          15,
          15,
          30,
          0,
          0,
          0,
          0,
          30,
          30,
          30,
          30,
          30,
          0,
          0,
          0,
          0,
          0,
          15,
          15,
          15
         ],
         "yaxis": "y"
        },
        {
         "hovertemplate": "Dispositivos=Laptop Computer<br>Fecha=%{x}<br>Potencia (W)=%{y}<extra></extra>",
         "legendgroup": "Laptop Computer",
         "line": {
          "color": "#FFA15A",
          "dash": "solid"
         },
         "marker": {
          "symbol": "circle"
         },
         "mode": "lines",
         "name": "Laptop Computer",
         "orientation": "v",
         "showlegend": true,
         "type": "scatter",
         "x": [
          "2023-02-24T17:40:00+01:00",
          "2023-02-24T17:41:00+01:00",
          "2023-02-24T17:42:00+01:00",
          "2023-02-24T17:43:00+01:00",
          "2023-02-24T17:44:00+01:00",
          "2023-02-24T17:45:00+01:00",
          "2023-02-24T17:46:00+01:00",
          "2023-02-24T17:47:00+01:00",
          "2023-02-24T17:48:00+01:00",
          "2023-02-24T17:49:00+01:00",
          "2023-02-24T17:50:00+01:00",
          "2023-02-24T17:51:00+01:00",
          "2023-02-24T17:52:00+01:00",
          "2023-02-24T17:53:00+01:00",
          "2023-02-24T17:54:00+01:00",
          "2023-02-24T17:55:00+01:00",
          "2023-02-24T17:56:00+01:00",
          "2023-02-24T17:57:00+01:00",
          "2023-02-24T17:58:00+01:00",
          "2023-02-24T17:59:00+01:00",
          "2023-02-24T18:00:00+01:00",
          "2023-02-24T18:01:00+01:00",
          "2023-02-24T18:02:00+01:00",
          "2023-02-24T18:03:00+01:00",
          "2023-02-24T18:04:00+01:00",
          "2023-02-24T18:05:00+01:00",
          "2023-02-24T18:06:00+01:00",
          "2023-02-24T18:07:00+01:00",
          "2023-02-24T18:08:00+01:00",
          "2023-02-24T18:09:00+01:00",
          "2023-02-24T18:10:00+01:00",
          "2023-02-24T18:11:00+01:00",
          "2023-02-24T18:12:00+01:00",
          "2023-02-24T18:13:00+01:00",
          "2023-02-24T18:14:00+01:00",
          "2023-02-24T18:15:00+01:00",
          "2023-02-24T18:16:00+01:00",
          "2023-02-24T18:17:00+01:00",
          "2023-02-24T18:18:00+01:00",
          "2023-02-24T18:19:00+01:00",
          "2023-02-24T18:20:00+01:00",
          "2023-02-24T18:21:00+01:00",
          "2023-02-24T18:22:00+01:00",
          "2023-02-24T18:23:00+01:00",
          "2023-02-24T18:24:00+01:00",
          "2023-02-24T18:25:00+01:00",
          "2023-02-24T18:26:00+01:00",
          "2023-02-24T18:27:00+01:00",
          "2023-02-24T18:28:00+01:00",
          "2023-02-24T18:29:00+01:00",
          "2023-02-24T18:30:00+01:00",
          "2023-02-24T18:31:00+01:00",
          "2023-02-24T18:32:00+01:00",
          "2023-02-24T18:33:00+01:00",
          "2023-02-24T18:34:00+01:00",
          "2023-02-24T18:35:00+01:00",
          "2023-02-24T18:36:00+01:00",
          "2023-02-24T18:37:00+01:00",
          "2023-02-24T18:38:00+01:00",
          "2023-02-24T18:39:00+01:00",
          "2023-02-24T18:40:00+01:00",
          "2023-02-24T18:41:00+01:00",
          "2023-02-24T18:42:00+01:00",
          "2023-02-24T18:43:00+01:00",
          "2023-02-24T18:44:00+01:00",
          "2023-02-24T18:45:00+01:00",
          "2023-02-24T18:46:00+01:00",
          "2023-02-24T18:47:00+01:00",
          "2023-02-24T18:48:00+01:00",
          "2023-02-24T18:49:00+01:00",
          "2023-02-24T18:50:00+01:00",
          "2023-02-24T18:51:00+01:00"
         ],
         "xaxis": "x",
         "y": [
          11,
          19,
          0,
          11,
          19,
          19,
          19,
          19,
          19,
          0,
          0,
          0,
          0,
          0,
          11,
          11,
          11,
          11,
          11,
          0,
          0,
          0,
          0,
          0,
          0,
          19,
          19,
          19,
          19,
          19,
          19,
          19,
          19,
          19,
          11,
          11,
          11,
          11,
          11,
          0,
          19,
          19,
          0,
          0,
          19,
          19,
          19,
          19,
          19,
          0,
          0,
          0,
          0,
          0,
          11,
          11,
          11,
          11,
          11,
          0,
          0,
          0,
          0,
          0,
          11,
          11,
          11,
          11,
          11,
          19,
          19,
          19
         ],
         "yaxis": "y"
        }
       ],
       "layout": {
        "height": 500,
        "legend": {
         "title": {
          "text": "Dispositivos"
         },
         "tracegroupgap": 0
        },
        "margin": {
         "t": 60
        },
        "template": {
         "data": {
          "bar": [
           {
            "error_x": {
             "color": "#2a3f5f"
            },
            "error_y": {
             "color": "#2a3f5f"
            },
            "marker": {
             "line": {
              "color": "#E5ECF6",
              "width": 0.5
             },
             "pattern": {
              "fillmode": "overlay",
              "size": 10,
              "solidity": 0.2
             }
            },
            "type": "bar"
           }
          ],
          "barpolar": [
           {
            "marker": {
             "line": {
              "color": "#E5ECF6",
              "width": 0.5
             },
             "pattern": {
              "fillmode": "overlay",
              "size": 10,
              "solidity": 0.2
             }
            },
            "type": "barpolar"
           }
          ],
          "carpet": [
           {
            "aaxis": {
             "endlinecolor": "#2a3f5f",
             "gridcolor": "white",
             "linecolor": "white",
             "minorgridcolor": "white",
             "startlinecolor": "#2a3f5f"
            },
            "baxis": {
             "endlinecolor": "#2a3f5f",
             "gridcolor": "white",
             "linecolor": "white",
             "minorgridcolor": "white",
             "startlinecolor": "#2a3f5f"
            },
            "type": "carpet"
           }
          ],
          "choropleth": [
           {
            "colorbar": {
             "outlinewidth": 0,
             "ticks": ""
            },
            "type": "choropleth"
           }
          ],
          "contour": [
           {
            "colorbar": {
             "outlinewidth": 0,
             "ticks": ""
            },
            "colorscale": [
             [
              0,
              "#0d0887"
             ],
             [
              0.1111111111111111,
              "#46039f"
             ],
             [
              0.2222222222222222,
              "#7201a8"
             ],
             [
              0.3333333333333333,
              "#9c179e"
             ],
             [
              0.4444444444444444,
              "#bd3786"
             ],
             [
              0.5555555555555556,
              "#d8576b"
             ],
             [
              0.6666666666666666,
              "#ed7953"
             ],
             [
              0.7777777777777778,
              "#fb9f3a"
             ],
             [
              0.8888888888888888,
              "#fdca26"
             ],
             [
              1,
              "#f0f921"
             ]
            ],
            "type": "contour"
           }
          ],
          "contourcarpet": [
           {
            "colorbar": {
             "outlinewidth": 0,
             "ticks": ""
            },
            "type": "contourcarpet"
           }
          ],
          "heatmap": [
           {
            "colorbar": {
             "outlinewidth": 0,
             "ticks": ""
            },
            "colorscale": [
             [
              0,
              "#0d0887"
             ],
             [
              0.1111111111111111,
              "#46039f"
             ],
             [
              0.2222222222222222,
              "#7201a8"
             ],
             [
              0.3333333333333333,
              "#9c179e"
             ],
             [
              0.4444444444444444,
              "#bd3786"
             ],
             [
              0.5555555555555556,
              "#d8576b"
             ],
             [
              0.6666666666666666,
              "#ed7953"
             ],
             [
              0.7777777777777778,
              "#fb9f3a"
             ],
             [
              0.8888888888888888,
              "#fdca26"
             ],
             [
              1,
              "#f0f921"
             ]
            ],
            "type": "heatmap"
           }
          ],
          "heatmapgl": [
           {
            "colorbar": {
             "outlinewidth": 0,
             "ticks": ""
            },
            "colorscale": [
             [
              0,
              "#0d0887"
             ],
             [
              0.1111111111111111,
              "#46039f"
             ],
             [
              0.2222222222222222,
              "#7201a8"
             ],
             [
              0.3333333333333333,
              "#9c179e"
             ],
             [
              0.4444444444444444,
              "#bd3786"
             ],
             [
              0.5555555555555556,
              "#d8576b"
             ],
             [
              0.6666666666666666,
              "#ed7953"
             ],
             [
              0.7777777777777778,
              "#fb9f3a"
             ],
             [
              0.8888888888888888,
              "#fdca26"
             ],
             [
              1,
              "#f0f921"
             ]
            ],
            "type": "heatmapgl"
           }
          ],
          "histogram": [
           {
            "marker": {
             "pattern": {
              "fillmode": "overlay",
              "size": 10,
              "solidity": 0.2
             }
            },
            "type": "histogram"
           }
          ],
          "histogram2d": [
           {
            "colorbar": {
             "outlinewidth": 0,
             "ticks": ""
            },
            "colorscale": [
             [
              0,
              "#0d0887"
             ],
             [
              0.1111111111111111,
              "#46039f"
             ],
             [
              0.2222222222222222,
              "#7201a8"
             ],
             [
              0.3333333333333333,
              "#9c179e"
             ],
             [
              0.4444444444444444,
              "#bd3786"
             ],
             [
              0.5555555555555556,
              "#d8576b"
             ],
             [
              0.6666666666666666,
              "#ed7953"
             ],
             [
              0.7777777777777778,
              "#fb9f3a"
             ],
             [
              0.8888888888888888,
              "#fdca26"
             ],
             [
              1,
              "#f0f921"
             ]
            ],
            "type": "histogram2d"
           }
          ],
          "histogram2dcontour": [
           {
            "colorbar": {
             "outlinewidth": 0,
             "ticks": ""
            },
            "colorscale": [
             [
              0,
              "#0d0887"
             ],
             [
              0.1111111111111111,
              "#46039f"
             ],
             [
              0.2222222222222222,
              "#7201a8"
             ],
             [
              0.3333333333333333,
              "#9c179e"
             ],
             [
              0.4444444444444444,
              "#bd3786"
             ],
             [
              0.5555555555555556,
              "#d8576b"
             ],
             [
              0.6666666666666666,
              "#ed7953"
             ],
             [
              0.7777777777777778,
              "#fb9f3a"
             ],
             [
              0.8888888888888888,
              "#fdca26"
             ],
             [
              1,
              "#f0f921"
             ]
            ],
            "type": "histogram2dcontour"
           }
          ],
          "mesh3d": [
           {
            "colorbar": {
             "outlinewidth": 0,
             "ticks": ""
            },
            "type": "mesh3d"
           }
          ],
          "parcoords": [
           {
            "line": {
             "colorbar": {
              "outlinewidth": 0,
              "ticks": ""
             }
            },
            "type": "parcoords"
           }
          ],
          "pie": [
           {
            "automargin": true,
            "type": "pie"
           }
          ],
          "scatter": [
           {
            "fillpattern": {
             "fillmode": "overlay",
             "size": 10,
             "solidity": 0.2
            },
            "type": "scatter"
           }
          ],
          "scatter3d": [
           {
            "line": {
             "colorbar": {
              "outlinewidth": 0,
              "ticks": ""
             }
            },
            "marker": {
             "colorbar": {
              "outlinewidth": 0,
              "ticks": ""
             }
            },
            "type": "scatter3d"
           }
          ],
          "scattercarpet": [
           {
            "marker": {
             "colorbar": {
              "outlinewidth": 0,
              "ticks": ""
             }
            },
            "type": "scattercarpet"
           }
          ],
          "scattergeo": [
           {
            "marker": {
             "colorbar": {
              "outlinewidth": 0,
              "ticks": ""
             }
            },
            "type": "scattergeo"
           }
          ],
          "scattergl": [
           {
            "marker": {
             "colorbar": {
              "outlinewidth": 0,
              "ticks": ""
             }
            },
            "type": "scattergl"
           }
          ],
          "scattermapbox": [
           {
            "marker": {
             "colorbar": {
              "outlinewidth": 0,
              "ticks": ""
             }
            },
            "type": "scattermapbox"
           }
          ],
          "scatterpolar": [
           {
            "marker": {
             "colorbar": {
              "outlinewidth": 0,
              "ticks": ""
             }
            },
            "type": "scatterpolar"
           }
          ],
          "scatterpolargl": [
           {
            "marker": {
             "colorbar": {
              "outlinewidth": 0,
              "ticks": ""
             }
            },
            "type": "scatterpolargl"
           }
          ],
          "scatterternary": [
           {
            "marker": {
             "colorbar": {
              "outlinewidth": 0,
              "ticks": ""
             }
            },
            "type": "scatterternary"
           }
          ],
          "surface": [
           {
            "colorbar": {
             "outlinewidth": 0,
             "ticks": ""
            },
            "colorscale": [
             [
              0,
              "#0d0887"
             ],
             [
              0.1111111111111111,
              "#46039f"
             ],
             [
              0.2222222222222222,
              "#7201a8"
             ],
             [
              0.3333333333333333,
              "#9c179e"
             ],
             [
              0.4444444444444444,
              "#bd3786"
             ],
             [
              0.5555555555555556,
              "#d8576b"
             ],
             [
              0.6666666666666666,
              "#ed7953"
             ],
             [
              0.7777777777777778,
              "#fb9f3a"
             ],
             [
              0.8888888888888888,
              "#fdca26"
             ],
             [
              1,
              "#f0f921"
             ]
            ],
            "type": "surface"
           }
          ],
          "table": [
           {
            "cells": {
             "fill": {
              "color": "#EBF0F8"
             },
             "line": {
              "color": "white"
             }
            },
            "header": {
             "fill": {
              "color": "#C8D4E3"
             },
             "line": {
              "color": "white"
             }
            },
            "type": "table"
           }
          ]
         },
         "layout": {
          "annotationdefaults": {
           "arrowcolor": "#2a3f5f",
           "arrowhead": 0,
           "arrowwidth": 1
          },
          "autotypenumbers": "strict",
          "coloraxis": {
           "colorbar": {
            "outlinewidth": 0,
            "ticks": ""
           }
          },
          "colorscale": {
           "diverging": [
            [
             0,
             "#8e0152"
            ],
            [
             0.1,
             "#c51b7d"
            ],
            [
             0.2,
             "#de77ae"
            ],
            [
             0.3,
             "#f1b6da"
            ],
            [
             0.4,
             "#fde0ef"
            ],
            [
             0.5,
             "#f7f7f7"
            ],
            [
             0.6,
             "#e6f5d0"
            ],
            [
             0.7,
             "#b8e186"
            ],
            [
             0.8,
             "#7fbc41"
            ],
            [
             0.9,
             "#4d9221"
            ],
            [
             1,
             "#276419"
            ]
           ],
           "sequential": [
            [
             0,
             "#0d0887"
            ],
            [
             0.1111111111111111,
             "#46039f"
            ],
            [
             0.2222222222222222,
             "#7201a8"
            ],
            [
             0.3333333333333333,
             "#9c179e"
            ],
            [
             0.4444444444444444,
             "#bd3786"
            ],
            [
             0.5555555555555556,
             "#d8576b"
            ],
            [
             0.6666666666666666,
             "#ed7953"
            ],
            [
             0.7777777777777778,
             "#fb9f3a"
            ],
            [
             0.8888888888888888,
             "#fdca26"
            ],
            [
             1,
             "#f0f921"
            ]
           ],
           "sequentialminus": [
            [
             0,
             "#0d0887"
            ],
            [
             0.1111111111111111,
             "#46039f"
            ],
            [
             0.2222222222222222,
             "#7201a8"
            ],
            [
             0.3333333333333333,
             "#9c179e"
            ],
            [
             0.4444444444444444,
             "#bd3786"
            ],
            [
             0.5555555555555556,
             "#d8576b"
            ],
            [
             0.6666666666666666,
             "#ed7953"
            ],
            [
             0.7777777777777778,
             "#fb9f3a"
            ],
            [
             0.8888888888888888,
             "#fdca26"
            ],
            [
             1,
             "#f0f921"
            ]
           ]
          },
          "colorway": [
           "#636efa",
           "#EF553B",
           "#00cc96",
           "#ab63fa",
           "#FFA15A",
           "#19d3f3",
           "#FF6692",
           "#B6E880",
           "#FF97FF",
           "#FECB52"
          ],
          "font": {
           "color": "#2a3f5f"
          },
          "geo": {
           "bgcolor": "white",
           "lakecolor": "white",
           "landcolor": "#E5ECF6",
           "showlakes": true,
           "showland": true,
           "subunitcolor": "white"
          },
          "hoverlabel": {
           "align": "left"
          },
          "hovermode": "closest",
          "mapbox": {
           "style": "light"
          },
          "paper_bgcolor": "white",
          "plot_bgcolor": "#E5ECF6",
          "polar": {
           "angularaxis": {
            "gridcolor": "white",
            "linecolor": "white",
            "ticks": ""
           },
           "bgcolor": "#E5ECF6",
           "radialaxis": {
            "gridcolor": "white",
            "linecolor": "white",
            "ticks": ""
           }
          },
          "scene": {
           "xaxis": {
            "backgroundcolor": "#E5ECF6",
            "gridcolor": "white",
            "gridwidth": 2,
            "linecolor": "white",
            "showbackground": true,
            "ticks": "",
            "zerolinecolor": "white"
           },
           "yaxis": {
            "backgroundcolor": "#E5ECF6",
            "gridcolor": "white",
            "gridwidth": 2,
            "linecolor": "white",
            "showbackground": true,
            "ticks": "",
            "zerolinecolor": "white"
           },
           "zaxis": {
            "backgroundcolor": "#E5ECF6",
            "gridcolor": "white",
            "gridwidth": 2,
            "linecolor": "white",
            "showbackground": true,
            "ticks": "",
            "zerolinecolor": "white"
           }
          },
          "shapedefaults": {
           "line": {
            "color": "#2a3f5f"
           }
          },
          "ternary": {
           "aaxis": {
            "gridcolor": "white",
            "linecolor": "white",
            "ticks": ""
           },
           "baxis": {
            "gridcolor": "white",
            "linecolor": "white",
            "ticks": ""
           },
           "bgcolor": "#E5ECF6",
           "caxis": {
            "gridcolor": "white",
            "linecolor": "white",
            "ticks": ""
           }
          },
          "title": {
           "x": 0.05
          },
          "xaxis": {
           "automargin": true,
           "gridcolor": "white",
           "linecolor": "white",
           "ticks": "",
           "title": {
            "standoff": 15
           },
           "zerolinecolor": "white",
           "zerolinewidth": 2
          },
          "yaxis": {
           "automargin": true,
           "gridcolor": "white",
           "linecolor": "white",
           "ticks": "",
           "title": {
            "standoff": 15
           },
           "zerolinecolor": "white",
           "zerolinewidth": 2
          }
         }
        },
        "width": 900,
        "xaxis": {
         "anchor": "y",
         "domain": [
          0,
          1
         ],
         "title": {
          "text": "Fecha"
         }
        },
        "yaxis": {
         "anchor": "x",
         "domain": [
          0,
          1
         ],
         "title": {
          "text": "Potencia (W)"
         }
        }
       }
      },
      "text/html": [
       "<div>                            <div id=\"8b99bc43-ff2f-4bc7-8082-accb898e1879\" class=\"plotly-graph-div\" style=\"height:500px; width:900px;\"></div>            <script type=\"text/javascript\">                require([\"plotly\"], function(Plotly) {                    window.PLOTLYENV=window.PLOTLYENV || {};                                    if (document.getElementById(\"8b99bc43-ff2f-4bc7-8082-accb898e1879\")) {                    Plotly.newPlot(                        \"8b99bc43-ff2f-4bc7-8082-accb898e1879\",                        [{\"hovertemplate\":\"Dispositivos=Main<br>Fecha=%{x}<br>Potencia (W)=%{y}<extra></extra>\",\"legendgroup\":\"Main\",\"line\":{\"color\":\"#636efa\",\"dash\":\"solid\"},\"marker\":{\"symbol\":\"circle\"},\"mode\":\"lines\",\"name\":\"Main\",\"orientation\":\"v\",\"showlegend\":true,\"x\":[\"2023-02-24T17:40:00+01:00\",\"2023-02-24T17:41:00+01:00\",\"2023-02-24T17:42:00+01:00\",\"2023-02-24T17:43:00+01:00\",\"2023-02-24T17:44:00+01:00\",\"2023-02-24T17:45:00+01:00\",\"2023-02-24T17:46:00+01:00\",\"2023-02-24T17:47:00+01:00\",\"2023-02-24T17:48:00+01:00\",\"2023-02-24T17:49:00+01:00\",\"2023-02-24T17:50:00+01:00\",\"2023-02-24T17:51:00+01:00\",\"2023-02-24T17:52:00+01:00\",\"2023-02-24T17:53:00+01:00\",\"2023-02-24T17:54:00+01:00\",\"2023-02-24T17:55:00+01:00\",\"2023-02-24T17:56:00+01:00\",\"2023-02-24T17:57:00+01:00\",\"2023-02-24T17:58:00+01:00\",\"2023-02-24T17:59:00+01:00\",\"2023-02-24T18:00:00+01:00\",\"2023-02-24T18:01:00+01:00\",\"2023-02-24T18:02:00+01:00\",\"2023-02-24T18:03:00+01:00\",\"2023-02-24T18:04:00+01:00\",\"2023-02-24T18:05:00+01:00\",\"2023-02-24T18:06:00+01:00\",\"2023-02-24T18:07:00+01:00\",\"2023-02-24T18:08:00+01:00\",\"2023-02-24T18:09:00+01:00\",\"2023-02-24T18:10:00+01:00\",\"2023-02-24T18:11:00+01:00\",\"2023-02-24T18:12:00+01:00\",\"2023-02-24T18:13:00+01:00\",\"2023-02-24T18:14:00+01:00\",\"2023-02-24T18:15:00+01:00\",\"2023-02-24T18:16:00+01:00\",\"2023-02-24T18:17:00+01:00\",\"2023-02-24T18:18:00+01:00\",\"2023-02-24T18:19:00+01:00\",\"2023-02-24T18:20:00+01:00\",\"2023-02-24T18:21:00+01:00\",\"2023-02-24T18:22:00+01:00\",\"2023-02-24T18:23:00+01:00\",\"2023-02-24T18:24:00+01:00\",\"2023-02-24T18:25:00+01:00\",\"2023-02-24T18:26:00+01:00\",\"2023-02-24T18:27:00+01:00\",\"2023-02-24T18:28:00+01:00\",\"2023-02-24T18:29:00+01:00\",\"2023-02-24T18:30:00+01:00\",\"2023-02-24T18:31:00+01:00\",\"2023-02-24T18:32:00+01:00\",\"2023-02-24T18:33:00+01:00\",\"2023-02-24T18:34:00+01:00\",\"2023-02-24T18:35:00+01:00\",\"2023-02-24T18:36:00+01:00\",\"2023-02-24T18:37:00+01:00\",\"2023-02-24T18:38:00+01:00\",\"2023-02-24T18:39:00+01:00\",\"2023-02-24T18:40:00+01:00\",\"2023-02-24T18:41:00+01:00\",\"2023-02-24T18:42:00+01:00\",\"2023-02-24T18:43:00+01:00\",\"2023-02-24T18:44:00+01:00\",\"2023-02-24T18:45:00+01:00\",\"2023-02-24T18:46:00+01:00\",\"2023-02-24T18:47:00+01:00\",\"2023-02-24T18:48:00+01:00\",\"2023-02-24T18:49:00+01:00\",\"2023-02-24T18:50:00+01:00\",\"2023-02-24T18:51:00+01:00\"],\"xaxis\":\"x\",\"y\":[0.0,26.0,26.0,0.0,18.0,18.0,18.0,18.0,18.0,18.0,0.0,0.0,0.0,0.0,18.0,18.0,0.0,0.0,18.0,18.0,18.0,18.0,18.0,18.0,26.0,18.0,18.0,26.0,26.0,26.0,18.0,26.0,26.0,26.0,18.0,18.0,18.0,18.0,18.0,0.0,0.0,0.0,0.0,0.0,18.0,18.0,18.0,18.0,18.0,0.0,0.0,0.0,0.0,0.0,0.0,18.0,18.0,18.0,18.0,18.0,18.0,18.0,26.0,26.0,18.0,18.0,18.0,18.0,18.0,26.0,26.0,26.0],\"yaxis\":\"y\",\"type\":\"scatter\"},{\"hovertemplate\":\"Dispositivos=Fryer<br>Fecha=%{x}<br>Potencia (W)=%{y}<extra></extra>\",\"legendgroup\":\"Fryer\",\"line\":{\"color\":\"#EF553B\",\"dash\":\"solid\"},\"marker\":{\"symbol\":\"circle\"},\"mode\":\"lines\",\"name\":\"Fryer\",\"orientation\":\"v\",\"showlegend\":true,\"x\":[\"2023-02-24T17:40:00+01:00\",\"2023-02-24T17:41:00+01:00\",\"2023-02-24T17:42:00+01:00\",\"2023-02-24T17:43:00+01:00\",\"2023-02-24T17:44:00+01:00\",\"2023-02-24T17:45:00+01:00\",\"2023-02-24T17:46:00+01:00\",\"2023-02-24T17:47:00+01:00\",\"2023-02-24T17:48:00+01:00\",\"2023-02-24T17:49:00+01:00\",\"2023-02-24T17:50:00+01:00\",\"2023-02-24T17:51:00+01:00\",\"2023-02-24T17:52:00+01:00\",\"2023-02-24T17:53:00+01:00\",\"2023-02-24T17:54:00+01:00\",\"2023-02-24T17:55:00+01:00\",\"2023-02-24T17:56:00+01:00\",\"2023-02-24T17:57:00+01:00\",\"2023-02-24T17:58:00+01:00\",\"2023-02-24T17:59:00+01:00\",\"2023-02-24T18:00:00+01:00\",\"2023-02-24T18:01:00+01:00\",\"2023-02-24T18:02:00+01:00\",\"2023-02-24T18:03:00+01:00\",\"2023-02-24T18:04:00+01:00\",\"2023-02-24T18:05:00+01:00\",\"2023-02-24T18:06:00+01:00\",\"2023-02-24T18:07:00+01:00\",\"2023-02-24T18:08:00+01:00\",\"2023-02-24T18:09:00+01:00\",\"2023-02-24T18:10:00+01:00\",\"2023-02-24T18:11:00+01:00\",\"2023-02-24T18:12:00+01:00\",\"2023-02-24T18:13:00+01:00\",\"2023-02-24T18:14:00+01:00\",\"2023-02-24T18:15:00+01:00\",\"2023-02-24T18:16:00+01:00\",\"2023-02-24T18:17:00+01:00\",\"2023-02-24T18:18:00+01:00\",\"2023-02-24T18:19:00+01:00\",\"2023-02-24T18:20:00+01:00\",\"2023-02-24T18:21:00+01:00\",\"2023-02-24T18:22:00+01:00\",\"2023-02-24T18:23:00+01:00\",\"2023-02-24T18:24:00+01:00\",\"2023-02-24T18:25:00+01:00\",\"2023-02-24T18:26:00+01:00\",\"2023-02-24T18:27:00+01:00\",\"2023-02-24T18:28:00+01:00\",\"2023-02-24T18:29:00+01:00\",\"2023-02-24T18:30:00+01:00\",\"2023-02-24T18:31:00+01:00\",\"2023-02-24T18:32:00+01:00\",\"2023-02-24T18:33:00+01:00\",\"2023-02-24T18:34:00+01:00\",\"2023-02-24T18:35:00+01:00\",\"2023-02-24T18:36:00+01:00\",\"2023-02-24T18:37:00+01:00\",\"2023-02-24T18:38:00+01:00\",\"2023-02-24T18:39:00+01:00\",\"2023-02-24T18:40:00+01:00\",\"2023-02-24T18:41:00+01:00\",\"2023-02-24T18:42:00+01:00\",\"2023-02-24T18:43:00+01:00\",\"2023-02-24T18:44:00+01:00\",\"2023-02-24T18:45:00+01:00\",\"2023-02-24T18:46:00+01:00\",\"2023-02-24T18:47:00+01:00\",\"2023-02-24T18:48:00+01:00\",\"2023-02-24T18:49:00+01:00\",\"2023-02-24T18:50:00+01:00\",\"2023-02-24T18:51:00+01:00\"],\"xaxis\":\"x\",\"y\":[11.0,11.0,0.0,11.0,18.0,18.0,18.0,18.0,18.0,0.0,18.0,18.0,18.0,18.0,11.0,11.0,0.0,0.0,11.0,18.0,18.0,18.0,18.0,18.0,0.0,18.0,18.0,11.0,11.0,18.0,11.0,18.0,18.0,18.0,11.0,11.0,11.0,11.0,11.0,18.0,0.0,0.0,18.0,18.0,18.0,18.0,18.0,18.0,18.0,18.0,18.0,18.0,18.0,18.0,0.0,11.0,11.0,11.0,11.0,18.0,18.0,18.0,11.0,11.0,18.0,18.0,18.0,18.0,18.0,11.0,11.0,11.0],\"yaxis\":\"y\",\"type\":\"scatter\"},{\"hovertemplate\":\"Dispositivos=LED Lamp<br>Fecha=%{x}<br>Potencia (W)=%{y}<extra></extra>\",\"legendgroup\":\"LED Lamp\",\"line\":{\"color\":\"#00cc96\",\"dash\":\"solid\"},\"marker\":{\"symbol\":\"circle\"},\"mode\":\"lines\",\"name\":\"LED Lamp\",\"orientation\":\"v\",\"showlegend\":true,\"x\":[\"2023-02-24T17:40:00+01:00\",\"2023-02-24T17:41:00+01:00\",\"2023-02-24T17:42:00+01:00\",\"2023-02-24T17:43:00+01:00\",\"2023-02-24T17:44:00+01:00\",\"2023-02-24T17:45:00+01:00\",\"2023-02-24T17:46:00+01:00\",\"2023-02-24T17:47:00+01:00\",\"2023-02-24T17:48:00+01:00\",\"2023-02-24T17:49:00+01:00\",\"2023-02-24T17:50:00+01:00\",\"2023-02-24T17:51:00+01:00\",\"2023-02-24T17:52:00+01:00\",\"2023-02-24T17:53:00+01:00\",\"2023-02-24T17:54:00+01:00\",\"2023-02-24T17:55:00+01:00\",\"2023-02-24T17:56:00+01:00\",\"2023-02-24T17:57:00+01:00\",\"2023-02-24T17:58:00+01:00\",\"2023-02-24T17:59:00+01:00\",\"2023-02-24T18:00:00+01:00\",\"2023-02-24T18:01:00+01:00\",\"2023-02-24T18:02:00+01:00\",\"2023-02-24T18:03:00+01:00\",\"2023-02-24T18:04:00+01:00\",\"2023-02-24T18:05:00+01:00\",\"2023-02-24T18:06:00+01:00\",\"2023-02-24T18:07:00+01:00\",\"2023-02-24T18:08:00+01:00\",\"2023-02-24T18:09:00+01:00\",\"2023-02-24T18:10:00+01:00\",\"2023-02-24T18:11:00+01:00\",\"2023-02-24T18:12:00+01:00\",\"2023-02-24T18:13:00+01:00\",\"2023-02-24T18:14:00+01:00\",\"2023-02-24T18:15:00+01:00\",\"2023-02-24T18:16:00+01:00\",\"2023-02-24T18:17:00+01:00\",\"2023-02-24T18:18:00+01:00\",\"2023-02-24T18:19:00+01:00\",\"2023-02-24T18:20:00+01:00\",\"2023-02-24T18:21:00+01:00\",\"2023-02-24T18:22:00+01:00\",\"2023-02-24T18:23:00+01:00\",\"2023-02-24T18:24:00+01:00\",\"2023-02-24T18:25:00+01:00\",\"2023-02-24T18:26:00+01:00\",\"2023-02-24T18:27:00+01:00\",\"2023-02-24T18:28:00+01:00\",\"2023-02-24T18:29:00+01:00\",\"2023-02-24T18:30:00+01:00\",\"2023-02-24T18:31:00+01:00\",\"2023-02-24T18:32:00+01:00\",\"2023-02-24T18:33:00+01:00\",\"2023-02-24T18:34:00+01:00\",\"2023-02-24T18:35:00+01:00\",\"2023-02-24T18:36:00+01:00\",\"2023-02-24T18:37:00+01:00\",\"2023-02-24T18:38:00+01:00\",\"2023-02-24T18:39:00+01:00\",\"2023-02-24T18:40:00+01:00\",\"2023-02-24T18:41:00+01:00\",\"2023-02-24T18:42:00+01:00\",\"2023-02-24T18:43:00+01:00\",\"2023-02-24T18:44:00+01:00\",\"2023-02-24T18:45:00+01:00\",\"2023-02-24T18:46:00+01:00\",\"2023-02-24T18:47:00+01:00\",\"2023-02-24T18:48:00+01:00\",\"2023-02-24T18:49:00+01:00\",\"2023-02-24T18:50:00+01:00\",\"2023-02-24T18:51:00+01:00\"],\"xaxis\":\"x\",\"y\":[48.0,15.0,15.0,48.0,0.0,0.0,0.0,0.0,0.0,48.0,48.0,48.0,48.0,48.0,48.0,48.0,48.0,48.0,48.0,48.0,48.0,48.0,48.0,48.0,48.0,48.0,48.0,15.0,15.0,48.0,48.0,48.0,48.0,48.0,0.0,0.0,0.0,0.0,0.0,48.0,15.0,15.0,48.0,48.0,0.0,0.0,0.0,0.0,0.0,48.0,48.0,48.0,48.0,48.0,48.0,48.0,48.0,48.0,48.0,48.0,48.0,48.0,48.0,48.0,48.0,48.0,48.0,48.0,48.0,48.0,48.0,48.0],\"yaxis\":\"y\",\"type\":\"scatter\"},{\"hovertemplate\":\"Dispositivos=Incandescent lamp<br>Fecha=%{x}<br>Potencia (W)=%{y}<extra></extra>\",\"legendgroup\":\"Incandescent lamp\",\"line\":{\"color\":\"#ab63fa\",\"dash\":\"solid\"},\"marker\":{\"symbol\":\"circle\"},\"mode\":\"lines\",\"name\":\"Incandescent lamp\",\"orientation\":\"v\",\"showlegend\":true,\"x\":[\"2023-02-24T17:40:00+01:00\",\"2023-02-24T17:41:00+01:00\",\"2023-02-24T17:42:00+01:00\",\"2023-02-24T17:43:00+01:00\",\"2023-02-24T17:44:00+01:00\",\"2023-02-24T17:45:00+01:00\",\"2023-02-24T17:46:00+01:00\",\"2023-02-24T17:47:00+01:00\",\"2023-02-24T17:48:00+01:00\",\"2023-02-24T17:49:00+01:00\",\"2023-02-24T17:50:00+01:00\",\"2023-02-24T17:51:00+01:00\",\"2023-02-24T17:52:00+01:00\",\"2023-02-24T17:53:00+01:00\",\"2023-02-24T17:54:00+01:00\",\"2023-02-24T17:55:00+01:00\",\"2023-02-24T17:56:00+01:00\",\"2023-02-24T17:57:00+01:00\",\"2023-02-24T17:58:00+01:00\",\"2023-02-24T17:59:00+01:00\",\"2023-02-24T18:00:00+01:00\",\"2023-02-24T18:01:00+01:00\",\"2023-02-24T18:02:00+01:00\",\"2023-02-24T18:03:00+01:00\",\"2023-02-24T18:04:00+01:00\",\"2023-02-24T18:05:00+01:00\",\"2023-02-24T18:06:00+01:00\",\"2023-02-24T18:07:00+01:00\",\"2023-02-24T18:08:00+01:00\",\"2023-02-24T18:09:00+01:00\",\"2023-02-24T18:10:00+01:00\",\"2023-02-24T18:11:00+01:00\",\"2023-02-24T18:12:00+01:00\",\"2023-02-24T18:13:00+01:00\",\"2023-02-24T18:14:00+01:00\",\"2023-02-24T18:15:00+01:00\",\"2023-02-24T18:16:00+01:00\",\"2023-02-24T18:17:00+01:00\",\"2023-02-24T18:18:00+01:00\",\"2023-02-24T18:19:00+01:00\",\"2023-02-24T18:20:00+01:00\",\"2023-02-24T18:21:00+01:00\",\"2023-02-24T18:22:00+01:00\",\"2023-02-24T18:23:00+01:00\",\"2023-02-24T18:24:00+01:00\",\"2023-02-24T18:25:00+01:00\",\"2023-02-24T18:26:00+01:00\",\"2023-02-24T18:27:00+01:00\",\"2023-02-24T18:28:00+01:00\",\"2023-02-24T18:29:00+01:00\",\"2023-02-24T18:30:00+01:00\",\"2023-02-24T18:31:00+01:00\",\"2023-02-24T18:32:00+01:00\",\"2023-02-24T18:33:00+01:00\",\"2023-02-24T18:34:00+01:00\",\"2023-02-24T18:35:00+01:00\",\"2023-02-24T18:36:00+01:00\",\"2023-02-24T18:37:00+01:00\",\"2023-02-24T18:38:00+01:00\",\"2023-02-24T18:39:00+01:00\",\"2023-02-24T18:40:00+01:00\",\"2023-02-24T18:41:00+01:00\",\"2023-02-24T18:42:00+01:00\",\"2023-02-24T18:43:00+01:00\",\"2023-02-24T18:44:00+01:00\",\"2023-02-24T18:45:00+01:00\",\"2023-02-24T18:46:00+01:00\",\"2023-02-24T18:47:00+01:00\",\"2023-02-24T18:48:00+01:00\",\"2023-02-24T18:49:00+01:00\",\"2023-02-24T18:50:00+01:00\",\"2023-02-24T18:51:00+01:00\"],\"xaxis\":\"x\",\"y\":[0.0,0.0,30.0,0.0,0.0,0.0,0.0,0.0,0.0,15.0,15.0,15.0,15.0,15.0,0.0,0.0,30.0,30.0,0.0,30.0,30.0,30.0,30.0,30.0,30.0,0.0,0.0,30.0,30.0,15.0,30.0,15.0,15.0,15.0,0.0,0.0,0.0,0.0,0.0,0.0,30.0,30.0,0.0,0.0,0.0,0.0,0.0,0.0,0.0,15.0,15.0,15.0,15.0,15.0,30.0,0.0,0.0,0.0,0.0,30.0,30.0,30.0,30.0,30.0,0.0,0.0,0.0,0.0,0.0,15.0,15.0,15.0],\"yaxis\":\"y\",\"type\":\"scatter\"},{\"hovertemplate\":\"Dispositivos=Laptop Computer<br>Fecha=%{x}<br>Potencia (W)=%{y}<extra></extra>\",\"legendgroup\":\"Laptop Computer\",\"line\":{\"color\":\"#FFA15A\",\"dash\":\"solid\"},\"marker\":{\"symbol\":\"circle\"},\"mode\":\"lines\",\"name\":\"Laptop Computer\",\"orientation\":\"v\",\"showlegend\":true,\"x\":[\"2023-02-24T17:40:00+01:00\",\"2023-02-24T17:41:00+01:00\",\"2023-02-24T17:42:00+01:00\",\"2023-02-24T17:43:00+01:00\",\"2023-02-24T17:44:00+01:00\",\"2023-02-24T17:45:00+01:00\",\"2023-02-24T17:46:00+01:00\",\"2023-02-24T17:47:00+01:00\",\"2023-02-24T17:48:00+01:00\",\"2023-02-24T17:49:00+01:00\",\"2023-02-24T17:50:00+01:00\",\"2023-02-24T17:51:00+01:00\",\"2023-02-24T17:52:00+01:00\",\"2023-02-24T17:53:00+01:00\",\"2023-02-24T17:54:00+01:00\",\"2023-02-24T17:55:00+01:00\",\"2023-02-24T17:56:00+01:00\",\"2023-02-24T17:57:00+01:00\",\"2023-02-24T17:58:00+01:00\",\"2023-02-24T17:59:00+01:00\",\"2023-02-24T18:00:00+01:00\",\"2023-02-24T18:01:00+01:00\",\"2023-02-24T18:02:00+01:00\",\"2023-02-24T18:03:00+01:00\",\"2023-02-24T18:04:00+01:00\",\"2023-02-24T18:05:00+01:00\",\"2023-02-24T18:06:00+01:00\",\"2023-02-24T18:07:00+01:00\",\"2023-02-24T18:08:00+01:00\",\"2023-02-24T18:09:00+01:00\",\"2023-02-24T18:10:00+01:00\",\"2023-02-24T18:11:00+01:00\",\"2023-02-24T18:12:00+01:00\",\"2023-02-24T18:13:00+01:00\",\"2023-02-24T18:14:00+01:00\",\"2023-02-24T18:15:00+01:00\",\"2023-02-24T18:16:00+01:00\",\"2023-02-24T18:17:00+01:00\",\"2023-02-24T18:18:00+01:00\",\"2023-02-24T18:19:00+01:00\",\"2023-02-24T18:20:00+01:00\",\"2023-02-24T18:21:00+01:00\",\"2023-02-24T18:22:00+01:00\",\"2023-02-24T18:23:00+01:00\",\"2023-02-24T18:24:00+01:00\",\"2023-02-24T18:25:00+01:00\",\"2023-02-24T18:26:00+01:00\",\"2023-02-24T18:27:00+01:00\",\"2023-02-24T18:28:00+01:00\",\"2023-02-24T18:29:00+01:00\",\"2023-02-24T18:30:00+01:00\",\"2023-02-24T18:31:00+01:00\",\"2023-02-24T18:32:00+01:00\",\"2023-02-24T18:33:00+01:00\",\"2023-02-24T18:34:00+01:00\",\"2023-02-24T18:35:00+01:00\",\"2023-02-24T18:36:00+01:00\",\"2023-02-24T18:37:00+01:00\",\"2023-02-24T18:38:00+01:00\",\"2023-02-24T18:39:00+01:00\",\"2023-02-24T18:40:00+01:00\",\"2023-02-24T18:41:00+01:00\",\"2023-02-24T18:42:00+01:00\",\"2023-02-24T18:43:00+01:00\",\"2023-02-24T18:44:00+01:00\",\"2023-02-24T18:45:00+01:00\",\"2023-02-24T18:46:00+01:00\",\"2023-02-24T18:47:00+01:00\",\"2023-02-24T18:48:00+01:00\",\"2023-02-24T18:49:00+01:00\",\"2023-02-24T18:50:00+01:00\",\"2023-02-24T18:51:00+01:00\"],\"xaxis\":\"x\",\"y\":[11.0,19.0,0.0,11.0,19.0,19.0,19.0,19.0,19.0,0.0,0.0,0.0,0.0,0.0,11.0,11.0,11.0,11.0,11.0,0.0,0.0,0.0,0.0,0.0,0.0,19.0,19.0,19.0,19.0,19.0,19.0,19.0,19.0,19.0,11.0,11.0,11.0,11.0,11.0,0.0,19.0,19.0,0.0,0.0,19.0,19.0,19.0,19.0,19.0,0.0,0.0,0.0,0.0,0.0,11.0,11.0,11.0,11.0,11.0,0.0,0.0,0.0,0.0,0.0,11.0,11.0,11.0,11.0,11.0,19.0,19.0,19.0],\"yaxis\":\"y\",\"type\":\"scatter\"}],                        {\"template\":{\"data\":{\"histogram2dcontour\":[{\"type\":\"histogram2dcontour\",\"colorbar\":{\"outlinewidth\":0,\"ticks\":\"\"},\"colorscale\":[[0.0,\"#0d0887\"],[0.1111111111111111,\"#46039f\"],[0.2222222222222222,\"#7201a8\"],[0.3333333333333333,\"#9c179e\"],[0.4444444444444444,\"#bd3786\"],[0.5555555555555556,\"#d8576b\"],[0.6666666666666666,\"#ed7953\"],[0.7777777777777778,\"#fb9f3a\"],[0.8888888888888888,\"#fdca26\"],[1.0,\"#f0f921\"]]}],\"choropleth\":[{\"type\":\"choropleth\",\"colorbar\":{\"outlinewidth\":0,\"ticks\":\"\"}}],\"histogram2d\":[{\"type\":\"histogram2d\",\"colorbar\":{\"outlinewidth\":0,\"ticks\":\"\"},\"colorscale\":[[0.0,\"#0d0887\"],[0.1111111111111111,\"#46039f\"],[0.2222222222222222,\"#7201a8\"],[0.3333333333333333,\"#9c179e\"],[0.4444444444444444,\"#bd3786\"],[0.5555555555555556,\"#d8576b\"],[0.6666666666666666,\"#ed7953\"],[0.7777777777777778,\"#fb9f3a\"],[0.8888888888888888,\"#fdca26\"],[1.0,\"#f0f921\"]]}],\"heatmap\":[{\"type\":\"heatmap\",\"colorbar\":{\"outlinewidth\":0,\"ticks\":\"\"},\"colorscale\":[[0.0,\"#0d0887\"],[0.1111111111111111,\"#46039f\"],[0.2222222222222222,\"#7201a8\"],[0.3333333333333333,\"#9c179e\"],[0.4444444444444444,\"#bd3786\"],[0.5555555555555556,\"#d8576b\"],[0.6666666666666666,\"#ed7953\"],[0.7777777777777778,\"#fb9f3a\"],[0.8888888888888888,\"#fdca26\"],[1.0,\"#f0f921\"]]}],\"heatmapgl\":[{\"type\":\"heatmapgl\",\"colorbar\":{\"outlinewidth\":0,\"ticks\":\"\"},\"colorscale\":[[0.0,\"#0d0887\"],[0.1111111111111111,\"#46039f\"],[0.2222222222222222,\"#7201a8\"],[0.3333333333333333,\"#9c179e\"],[0.4444444444444444,\"#bd3786\"],[0.5555555555555556,\"#d8576b\"],[0.6666666666666666,\"#ed7953\"],[0.7777777777777778,\"#fb9f3a\"],[0.8888888888888888,\"#fdca26\"],[1.0,\"#f0f921\"]]}],\"contourcarpet\":[{\"type\":\"contourcarpet\",\"colorbar\":{\"outlinewidth\":0,\"ticks\":\"\"}}],\"contour\":[{\"type\":\"contour\",\"colorbar\":{\"outlinewidth\":0,\"ticks\":\"\"},\"colorscale\":[[0.0,\"#0d0887\"],[0.1111111111111111,\"#46039f\"],[0.2222222222222222,\"#7201a8\"],[0.3333333333333333,\"#9c179e\"],[0.4444444444444444,\"#bd3786\"],[0.5555555555555556,\"#d8576b\"],[0.6666666666666666,\"#ed7953\"],[0.7777777777777778,\"#fb9f3a\"],[0.8888888888888888,\"#fdca26\"],[1.0,\"#f0f921\"]]}],\"surface\":[{\"type\":\"surface\",\"colorbar\":{\"outlinewidth\":0,\"ticks\":\"\"},\"colorscale\":[[0.0,\"#0d0887\"],[0.1111111111111111,\"#46039f\"],[0.2222222222222222,\"#7201a8\"],[0.3333333333333333,\"#9c179e\"],[0.4444444444444444,\"#bd3786\"],[0.5555555555555556,\"#d8576b\"],[0.6666666666666666,\"#ed7953\"],[0.7777777777777778,\"#fb9f3a\"],[0.8888888888888888,\"#fdca26\"],[1.0,\"#f0f921\"]]}],\"mesh3d\":[{\"type\":\"mesh3d\",\"colorbar\":{\"outlinewidth\":0,\"ticks\":\"\"}}],\"scatter\":[{\"fillpattern\":{\"fillmode\":\"overlay\",\"size\":10,\"solidity\":0.2},\"type\":\"scatter\"}],\"parcoords\":[{\"type\":\"parcoords\",\"line\":{\"colorbar\":{\"outlinewidth\":0,\"ticks\":\"\"}}}],\"scatterpolargl\":[{\"type\":\"scatterpolargl\",\"marker\":{\"colorbar\":{\"outlinewidth\":0,\"ticks\":\"\"}}}],\"bar\":[{\"error_x\":{\"color\":\"#2a3f5f\"},\"error_y\":{\"color\":\"#2a3f5f\"},\"marker\":{\"line\":{\"color\":\"#E5ECF6\",\"width\":0.5},\"pattern\":{\"fillmode\":\"overlay\",\"size\":10,\"solidity\":0.2}},\"type\":\"bar\"}],\"scattergeo\":[{\"type\":\"scattergeo\",\"marker\":{\"colorbar\":{\"outlinewidth\":0,\"ticks\":\"\"}}}],\"scatterpolar\":[{\"type\":\"scatterpolar\",\"marker\":{\"colorbar\":{\"outlinewidth\":0,\"ticks\":\"\"}}}],\"histogram\":[{\"marker\":{\"pattern\":{\"fillmode\":\"overlay\",\"size\":10,\"solidity\":0.2}},\"type\":\"histogram\"}],\"scattergl\":[{\"type\":\"scattergl\",\"marker\":{\"colorbar\":{\"outlinewidth\":0,\"ticks\":\"\"}}}],\"scatter3d\":[{\"type\":\"scatter3d\",\"line\":{\"colorbar\":{\"outlinewidth\":0,\"ticks\":\"\"}},\"marker\":{\"colorbar\":{\"outlinewidth\":0,\"ticks\":\"\"}}}],\"scattermapbox\":[{\"type\":\"scattermapbox\",\"marker\":{\"colorbar\":{\"outlinewidth\":0,\"ticks\":\"\"}}}],\"scatterternary\":[{\"type\":\"scatterternary\",\"marker\":{\"colorbar\":{\"outlinewidth\":0,\"ticks\":\"\"}}}],\"scattercarpet\":[{\"type\":\"scattercarpet\",\"marker\":{\"colorbar\":{\"outlinewidth\":0,\"ticks\":\"\"}}}],\"carpet\":[{\"aaxis\":{\"endlinecolor\":\"#2a3f5f\",\"gridcolor\":\"white\",\"linecolor\":\"white\",\"minorgridcolor\":\"white\",\"startlinecolor\":\"#2a3f5f\"},\"baxis\":{\"endlinecolor\":\"#2a3f5f\",\"gridcolor\":\"white\",\"linecolor\":\"white\",\"minorgridcolor\":\"white\",\"startlinecolor\":\"#2a3f5f\"},\"type\":\"carpet\"}],\"table\":[{\"cells\":{\"fill\":{\"color\":\"#EBF0F8\"},\"line\":{\"color\":\"white\"}},\"header\":{\"fill\":{\"color\":\"#C8D4E3\"},\"line\":{\"color\":\"white\"}},\"type\":\"table\"}],\"barpolar\":[{\"marker\":{\"line\":{\"color\":\"#E5ECF6\",\"width\":0.5},\"pattern\":{\"fillmode\":\"overlay\",\"size\":10,\"solidity\":0.2}},\"type\":\"barpolar\"}],\"pie\":[{\"automargin\":true,\"type\":\"pie\"}]},\"layout\":{\"autotypenumbers\":\"strict\",\"colorway\":[\"#636efa\",\"#EF553B\",\"#00cc96\",\"#ab63fa\",\"#FFA15A\",\"#19d3f3\",\"#FF6692\",\"#B6E880\",\"#FF97FF\",\"#FECB52\"],\"font\":{\"color\":\"#2a3f5f\"},\"hovermode\":\"closest\",\"hoverlabel\":{\"align\":\"left\"},\"paper_bgcolor\":\"white\",\"plot_bgcolor\":\"#E5ECF6\",\"polar\":{\"bgcolor\":\"#E5ECF6\",\"angularaxis\":{\"gridcolor\":\"white\",\"linecolor\":\"white\",\"ticks\":\"\"},\"radialaxis\":{\"gridcolor\":\"white\",\"linecolor\":\"white\",\"ticks\":\"\"}},\"ternary\":{\"bgcolor\":\"#E5ECF6\",\"aaxis\":{\"gridcolor\":\"white\",\"linecolor\":\"white\",\"ticks\":\"\"},\"baxis\":{\"gridcolor\":\"white\",\"linecolor\":\"white\",\"ticks\":\"\"},\"caxis\":{\"gridcolor\":\"white\",\"linecolor\":\"white\",\"ticks\":\"\"}},\"coloraxis\":{\"colorbar\":{\"outlinewidth\":0,\"ticks\":\"\"}},\"colorscale\":{\"sequential\":[[0.0,\"#0d0887\"],[0.1111111111111111,\"#46039f\"],[0.2222222222222222,\"#7201a8\"],[0.3333333333333333,\"#9c179e\"],[0.4444444444444444,\"#bd3786\"],[0.5555555555555556,\"#d8576b\"],[0.6666666666666666,\"#ed7953\"],[0.7777777777777778,\"#fb9f3a\"],[0.8888888888888888,\"#fdca26\"],[1.0,\"#f0f921\"]],\"sequentialminus\":[[0.0,\"#0d0887\"],[0.1111111111111111,\"#46039f\"],[0.2222222222222222,\"#7201a8\"],[0.3333333333333333,\"#9c179e\"],[0.4444444444444444,\"#bd3786\"],[0.5555555555555556,\"#d8576b\"],[0.6666666666666666,\"#ed7953\"],[0.7777777777777778,\"#fb9f3a\"],[0.8888888888888888,\"#fdca26\"],[1.0,\"#f0f921\"]],\"diverging\":[[0,\"#8e0152\"],[0.1,\"#c51b7d\"],[0.2,\"#de77ae\"],[0.3,\"#f1b6da\"],[0.4,\"#fde0ef\"],[0.5,\"#f7f7f7\"],[0.6,\"#e6f5d0\"],[0.7,\"#b8e186\"],[0.8,\"#7fbc41\"],[0.9,\"#4d9221\"],[1,\"#276419\"]]},\"xaxis\":{\"gridcolor\":\"white\",\"linecolor\":\"white\",\"ticks\":\"\",\"title\":{\"standoff\":15},\"zerolinecolor\":\"white\",\"automargin\":true,\"zerolinewidth\":2},\"yaxis\":{\"gridcolor\":\"white\",\"linecolor\":\"white\",\"ticks\":\"\",\"title\":{\"standoff\":15},\"zerolinecolor\":\"white\",\"automargin\":true,\"zerolinewidth\":2},\"scene\":{\"xaxis\":{\"backgroundcolor\":\"#E5ECF6\",\"gridcolor\":\"white\",\"linecolor\":\"white\",\"showbackground\":true,\"ticks\":\"\",\"zerolinecolor\":\"white\",\"gridwidth\":2},\"yaxis\":{\"backgroundcolor\":\"#E5ECF6\",\"gridcolor\":\"white\",\"linecolor\":\"white\",\"showbackground\":true,\"ticks\":\"\",\"zerolinecolor\":\"white\",\"gridwidth\":2},\"zaxis\":{\"backgroundcolor\":\"#E5ECF6\",\"gridcolor\":\"white\",\"linecolor\":\"white\",\"showbackground\":true,\"ticks\":\"\",\"zerolinecolor\":\"white\",\"gridwidth\":2}},\"shapedefaults\":{\"line\":{\"color\":\"#2a3f5f\"}},\"annotationdefaults\":{\"arrowcolor\":\"#2a3f5f\",\"arrowhead\":0,\"arrowwidth\":1},\"geo\":{\"bgcolor\":\"white\",\"landcolor\":\"#E5ECF6\",\"subunitcolor\":\"white\",\"showland\":true,\"showlakes\":true,\"lakecolor\":\"white\"},\"title\":{\"x\":0.05},\"mapbox\":{\"style\":\"light\"}}},\"xaxis\":{\"anchor\":\"y\",\"domain\":[0.0,1.0],\"title\":{\"text\":\"Fecha\"}},\"yaxis\":{\"anchor\":\"x\",\"domain\":[0.0,1.0],\"title\":{\"text\":\"Potencia (W)\"}},\"legend\":{\"title\":{\"text\":\"Dispositivos\"},\"tracegroupgap\":0},\"margin\":{\"t\":60},\"height\":500,\"width\":900},                        {\"responsive\": true}                    ).then(function(){\n",
       "                            \n",
       "var gd = document.getElementById('8b99bc43-ff2f-4bc7-8082-accb898e1879');\n",
       "var x = new MutationObserver(function (mutations, observer) {{\n",
       "        var display = window.getComputedStyle(gd).display;\n",
       "        if (!display || display === 'none') {{\n",
       "            console.log([gd, 'removed!']);\n",
       "            Plotly.purge(gd);\n",
       "            observer.disconnect();\n",
       "        }}\n",
       "}});\n",
       "\n",
       "// Listen for the removal of the full notebook cells\n",
       "var notebookContainer = gd.closest('#notebook-container');\n",
       "if (notebookContainer) {{\n",
       "    x.observe(notebookContainer, {childList: true});\n",
       "}}\n",
       "\n",
       "// Listen for the clearing of the current output cell\n",
       "var outputEl = gd.closest('.output');\n",
       "if (outputEl) {{\n",
       "    x.observe(outputEl, {childList: true});\n",
       "}}\n",
       "\n",
       "                        })                };                });            </script>        </div>"
      ]
     },
     "metadata": {},
     "output_type": "display_data"
    },
    {
     "name": "stdout",
     "output_type": "stream",
     "text": [
      "Sample_period: 60segundos\n"
     ]
    },
    {
     "ename": "ValueError",
     "evalue": "time data '2023-02-24T17:40:01.605000+01:00' does not match format '%Y-%m-%dT%H:%M:%S+01:00'",
     "output_type": "error",
     "traceback": [
      "\u001b[1;31m---------------------------------------------------------------------------\u001b[0m",
      "\u001b[1;31mValueError\u001b[0m                                Traceback (most recent call last)",
      "\u001b[1;32m<ipython-input-5-2c4ddec17375>\u001b[0m in \u001b[0;36m<module>\u001b[1;34m()\u001b[0m\n\u001b[0;32m      1\u001b[0m \u001b[1;31m#llamada a la función\u001b[0m\u001b[1;33m\u001b[0m\u001b[1;33m\u001b[0m\u001b[1;33m\u001b[0m\u001b[0m\n\u001b[1;32m----> 2\u001b[1;33m \u001b[0mreport\u001b[0m\u001b[1;33m(\u001b[0m\u001b[1;33m)\u001b[0m\u001b[1;33m\u001b[0m\u001b[1;33m\u001b[0m\u001b[0m\n\u001b[0m",
      "\u001b[1;32m<ipython-input-4-c634b9c7bef3>\u001b[0m in \u001b[0;36mreport\u001b[1;34m()\u001b[0m\n\u001b[0;32m     57\u001b[0m \u001b[1;33m\u001b[0m\u001b[0m\n\u001b[0;32m     58\u001b[0m     \u001b[0mstart\u001b[0m\u001b[1;33m=\u001b[0m\u001b[0mresults\u001b[0m\u001b[1;33m.\u001b[0m\u001b[0mmetadata\u001b[0m\u001b[1;33m[\u001b[0m\u001b[1;34m'timeframe'\u001b[0m\u001b[1;33m]\u001b[0m\u001b[1;33m[\u001b[0m\u001b[1;34m'start'\u001b[0m\u001b[1;33m]\u001b[0m \u001b[1;31m#recuperamos del dataset la hora de inicio\u001b[0m\u001b[1;33m\u001b[0m\u001b[1;33m\u001b[0m\u001b[0m\n\u001b[1;32m---> 59\u001b[1;33m     \u001b[0mstart\u001b[0m\u001b[1;33m=\u001b[0m\u001b[0mdatetime\u001b[0m\u001b[1;33m.\u001b[0m\u001b[0mdatetime\u001b[0m\u001b[1;33m.\u001b[0m\u001b[0mstrptime\u001b[0m\u001b[1;33m(\u001b[0m\u001b[0mstart\u001b[0m\u001b[1;33m,\u001b[0m\u001b[1;34m'%Y-%m-%dT%H:%M:%S+01:00'\u001b[0m\u001b[1;33m)\u001b[0m\u001b[1;33m.\u001b[0m\u001b[0mstrftime\u001b[0m\u001b[1;33m(\u001b[0m\u001b[1;34m'%d/%m/%Y %H:%M:%S'\u001b[0m\u001b[1;33m)\u001b[0m\u001b[1;33m\u001b[0m\u001b[1;33m\u001b[0m\u001b[0m\n\u001b[0m\u001b[0;32m     60\u001b[0m     \u001b[0mprint\u001b[0m \u001b[1;33m(\u001b[0m\u001b[1;34m'Start:'\u001b[0m\u001b[1;33m,\u001b[0m\u001b[0mstart\u001b[0m\u001b[1;33m)\u001b[0m\u001b[1;33m\u001b[0m\u001b[1;33m\u001b[0m\u001b[0m\n\u001b[0;32m     61\u001b[0m \u001b[1;33m\u001b[0m\u001b[0m\n",
      "\u001b[1;32mC:\\Users\\carlo\\anaconda3\\envs\\nilmtk-env\\lib\\_strptime.py\u001b[0m in \u001b[0;36m_strptime_datetime\u001b[1;34m(cls, data_string, format)\u001b[0m\n\u001b[0;32m    563\u001b[0m     \"\"\"Return a class cls instance based on the input string and the\n\u001b[0;32m    564\u001b[0m     format string.\"\"\"\n\u001b[1;32m--> 565\u001b[1;33m     \u001b[0mtt\u001b[0m\u001b[1;33m,\u001b[0m \u001b[0mfraction\u001b[0m \u001b[1;33m=\u001b[0m \u001b[0m_strptime\u001b[0m\u001b[1;33m(\u001b[0m\u001b[0mdata_string\u001b[0m\u001b[1;33m,\u001b[0m \u001b[0mformat\u001b[0m\u001b[1;33m)\u001b[0m\u001b[1;33m\u001b[0m\u001b[1;33m\u001b[0m\u001b[0m\n\u001b[0m\u001b[0;32m    566\u001b[0m     \u001b[0mtzname\u001b[0m\u001b[1;33m,\u001b[0m \u001b[0mgmtoff\u001b[0m \u001b[1;33m=\u001b[0m \u001b[0mtt\u001b[0m\u001b[1;33m[\u001b[0m\u001b[1;33m-\u001b[0m\u001b[1;36m2\u001b[0m\u001b[1;33m:\u001b[0m\u001b[1;33m]\u001b[0m\u001b[1;33m\u001b[0m\u001b[1;33m\u001b[0m\u001b[0m\n\u001b[0;32m    567\u001b[0m     \u001b[0margs\u001b[0m \u001b[1;33m=\u001b[0m \u001b[0mtt\u001b[0m\u001b[1;33m[\u001b[0m\u001b[1;33m:\u001b[0m\u001b[1;36m6\u001b[0m\u001b[1;33m]\u001b[0m \u001b[1;33m+\u001b[0m \u001b[1;33m(\u001b[0m\u001b[0mfraction\u001b[0m\u001b[1;33m,\u001b[0m\u001b[1;33m)\u001b[0m\u001b[1;33m\u001b[0m\u001b[1;33m\u001b[0m\u001b[0m\n",
      "\u001b[1;32mC:\\Users\\carlo\\anaconda3\\envs\\nilmtk-env\\lib\\_strptime.py\u001b[0m in \u001b[0;36m_strptime\u001b[1;34m(data_string, format)\u001b[0m\n\u001b[0;32m    360\u001b[0m     \u001b[1;32mif\u001b[0m \u001b[1;32mnot\u001b[0m \u001b[0mfound\u001b[0m\u001b[1;33m:\u001b[0m\u001b[1;33m\u001b[0m\u001b[1;33m\u001b[0m\u001b[0m\n\u001b[0;32m    361\u001b[0m         raise ValueError(\"time data %r does not match format %r\" %\n\u001b[1;32m--> 362\u001b[1;33m                          (data_string, format))\n\u001b[0m\u001b[0;32m    363\u001b[0m     \u001b[1;32mif\u001b[0m \u001b[0mlen\u001b[0m\u001b[1;33m(\u001b[0m\u001b[0mdata_string\u001b[0m\u001b[1;33m)\u001b[0m \u001b[1;33m!=\u001b[0m \u001b[0mfound\u001b[0m\u001b[1;33m.\u001b[0m\u001b[0mend\u001b[0m\u001b[1;33m(\u001b[0m\u001b[1;33m)\u001b[0m\u001b[1;33m:\u001b[0m\u001b[1;33m\u001b[0m\u001b[1;33m\u001b[0m\u001b[0m\n\u001b[0;32m    364\u001b[0m         raise ValueError(\"unconverted data remains: %s\" %\n",
      "\u001b[1;31mValueError\u001b[0m: time data '2023-02-24T17:40:01.605000+01:00' does not match format '%Y-%m-%dT%H:%M:%S+01:00'"
     ]
    }
   ],
   "source": [
    "#llamada a la función\n",
    "report()"
   ]
  },
  {
   "cell_type": "code",
   "execution_count": null,
   "id": "c65a6401",
   "metadata": {},
   "outputs": [],
   "source": []
  },
  {
   "cell_type": "code",
   "execution_count": null,
   "id": "aaf8ab65",
   "metadata": {},
   "outputs": [],
   "source": []
  },
  {
   "cell_type": "code",
   "execution_count": null,
   "id": "1fc855a7",
   "metadata": {},
   "outputs": [],
   "source": []
  }
 ],
 "metadata": {
  "kernelspec": {
   "display_name": "Python 3",
   "language": "python",
   "name": "python3"
  },
  "language_info": {
   "codemirror_mode": {
    "name": "ipython",
    "version": 3
   },
   "file_extension": ".py",
   "mimetype": "text/x-python",
   "name": "python",
   "nbconvert_exporter": "python",
   "pygments_lexer": "ipython3",
   "version": "3.6.13"
  }
 },
 "nbformat": 4,
 "nbformat_minor": 5
}
